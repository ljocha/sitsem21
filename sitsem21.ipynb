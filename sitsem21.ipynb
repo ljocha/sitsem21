{
 "cells": [
  {
   "cell_type": "markdown",
   "id": "d7434f22",
   "metadata": {
    "slideshow": {
     "slide_type": "slide"
    }
   },
   "source": [
    "# Amdahl je kámoš"
   ]
  },
  {
   "cell_type": "markdown",
   "id": "914f8230",
   "metadata": {
    "slideshow": {
     "slide_type": "slide"
    }
   },
   "source": [
    "# Nenapíšeš cyklus!"
   ]
  },
  {
   "cell_type": "markdown",
   "id": "bdf72957",
   "metadata": {
    "slideshow": {
     "slide_type": "slide"
    }
   },
   "source": [
    "## Násobení matic"
   ]
  },
  {
   "cell_type": "code",
   "execution_count": 4,
   "id": "2dd3e0bb",
   "metadata": {},
   "outputs": [],
   "source": [
    "loop_times = []\n",
    "numpy_times = []"
   ]
  },
  {
   "cell_type": "code",
   "execution_count": 5,
   "id": "c8e70321",
   "metadata": {},
   "outputs": [
    {
     "data": {
      "text/plain": [
       "[6.234970297897235]"
      ]
     },
     "execution_count": 5,
     "metadata": {},
     "output_type": "execute_result"
    }
   ],
   "source": [
    "import random\n",
    "from timeit import default_timer as timer\n",
    "\n",
    "N = 300\n",
    "A = [ [ random.random() for _ in range(N)] for _ in range(N)]\n",
    "B = [ [ random.random() for _ in range(N)] for _ in range(N)]\n",
    "C = [ [ 0. for _ in range(N)] for _ in range(N)]\n",
    "\n",
    "start = timer()\n",
    "for i in range(N):\n",
    "    for j in range(N):\n",
    "        for k in range(N):\n",
    "            C[i][j] += A[i][k] * B[k][j]\n",
    "            \n",
    "end = timer()\n",
    "loop_times.append(end-start)\n",
    "sorted(loop_times)"
   ]
  },
  {
   "cell_type": "code",
   "execution_count": 9,
   "id": "9751bc14",
   "metadata": {
    "slideshow": {
     "slide_type": "slide"
    }
   },
   "outputs": [
    {
     "ename": "NameError",
     "evalue": "name 'timer' is not defined",
     "output_type": "error",
     "traceback": [
      "\u001b[0;31m---------------------------------------------------------------------------\u001b[0m",
      "\u001b[0;31mNameError\u001b[0m                                 Traceback (most recent call last)",
      "\u001b[0;32m<ipython-input-9-e5db1ae995fc>\u001b[0m in \u001b[0;36m<module>\u001b[0;34m\u001b[0m\n\u001b[1;32m      6\u001b[0m \u001b[0mB\u001b[0m \u001b[0;34m+=\u001b[0m \u001b[0mnp\u001b[0m\u001b[0;34m.\u001b[0m\u001b[0mrandom\u001b[0m\u001b[0;34m.\u001b[0m\u001b[0mrand\u001b[0m\u001b[0;34m(\u001b[0m\u001b[0mN\u001b[0m\u001b[0;34m,\u001b[0m\u001b[0mN\u001b[0m\u001b[0;34m)\u001b[0m\u001b[0;34m\u001b[0m\u001b[0;34m\u001b[0m\u001b[0m\n\u001b[1;32m      7\u001b[0m \u001b[0;34m\u001b[0m\u001b[0m\n\u001b[0;32m----> 8\u001b[0;31m \u001b[0mstart\u001b[0m \u001b[0;34m=\u001b[0m \u001b[0mtimer\u001b[0m\u001b[0;34m(\u001b[0m\u001b[0;34m)\u001b[0m\u001b[0;34m\u001b[0m\u001b[0;34m\u001b[0m\u001b[0m\n\u001b[0m\u001b[1;32m      9\u001b[0m \u001b[0mC\u001b[0m \u001b[0;34m=\u001b[0m \u001b[0mnp\u001b[0m\u001b[0;34m.\u001b[0m\u001b[0mmatmul\u001b[0m\u001b[0;34m(\u001b[0m\u001b[0mA\u001b[0m\u001b[0;34m,\u001b[0m\u001b[0mB\u001b[0m\u001b[0;34m)\u001b[0m\u001b[0;34m\u001b[0m\u001b[0;34m\u001b[0m\u001b[0m\n\u001b[1;32m     10\u001b[0m \u001b[0mend\u001b[0m \u001b[0;34m=\u001b[0m \u001b[0mtimer\u001b[0m\u001b[0;34m(\u001b[0m\u001b[0;34m)\u001b[0m\u001b[0;34m\u001b[0m\u001b[0;34m\u001b[0m\u001b[0m\n",
      "\u001b[0;31mNameError\u001b[0m: name 'timer' is not defined"
     ]
    }
   ],
   "source": [
    "N = 10000\n",
    "import numpy as np\n",
    "A = np.zeros((N,N),dtype=np.float32)\n",
    "A += np.random.rand(N,N)\n",
    "B = np.zeros((N,N),dtype=np.float32)\n",
    "B += np.random.rand(N,N)\n",
    "\n",
    "start = timer()\n",
    "C = np.matmul(A,B)\n",
    "end = timer()\n",
    "numpy_times.append(end-start)\n",
    "sorted(numpy_times)\n"
   ]
  },
  {
   "cell_type": "code",
   "execution_count": 7,
   "id": "6073a4ee",
   "metadata": {
    "slideshow": {
     "slide_type": "slide"
    }
   },
   "outputs": [
    {
     "data": {
      "text/plain": [
       "24.355323505820706"
      ]
     },
     "execution_count": 7,
     "metadata": {},
     "output_type": "execute_result"
    }
   ],
   "source": [
    "N = 300\n",
    "C = np.zeros((N,N),dtype=np.float32)\n",
    "\n",
    "start = timer()\n",
    "for i in range(N):\n",
    "    for j in range(N):\n",
    "        for k in range(N):\n",
    "            C[i][j] += A[i][k] * B[k][j]\n",
    "            \n",
    "end = timer()\n",
    "end-start"
   ]
  },
  {
   "cell_type": "markdown",
   "id": "6ddaea5c",
   "metadata": {
    "slideshow": {
     "slide_type": "slide"
    }
   },
   "source": [
    "## Stabilita trajektorie\n",
    "\n",
    "- Vývoj nějakého procesu v čase -- posloupnost $m$ bodů $x_k\\in R^n$\n",
    "- Chceme zjistit, zda se děje ještě něco nového, nebo se vše podstatné už jen opakuje\n",
    "\n",
    "- Korelace jenotlivých souřadnic\n",
    "$$ c_{ij} = \\sum_{k=1}^m (x_{ik} - \\bar x_i) ( x_{jk} - \\bar x_j) $$\n",
    "kde $ \\bar x_i = \\sum_{k=1}^m x_{ki}/m$\n",
    "\n",
    "- Největší vlastní hodnoty matice korelaci (do součtu 90 % apod) postihují ,,to podstatné``\n",
    "- Pokud se významně nezmění mezi např. 70 % a 100 % trajektorie, lze tvrdit, že už je stabilní\n",
    "- Jako domácí cvičení z lineární algebry si rozmyslete, proč to funguje\n"
   ]
  },
  {
   "cell_type": "code",
   "execution_count": 7,
   "id": "70564391",
   "metadata": {
    "slideshow": {
     "slide_type": "slide"
    }
   },
   "outputs": [
    {
     "data": {
      "text/plain": [
       "<mdtraj.Trajectory with 20001 frames, 154 atoms, 20 residues, and unitcells at 0x7fd918d81128>"
      ]
     },
     "execution_count": 7,
     "metadata": {},
     "output_type": "execute_result"
    }
   ],
   "source": [
    "import mdtraj as md\n",
    "\n",
    "tr = md.load('pbc3.xtc',top='1L2Y.pdb')\n",
    "idx=tr.top.select(\"protein and element != H\")\n",
    "tr.atom_slice(idx,inplace=True)\n",
    "tr"
   ]
  },
  {
   "cell_type": "code",
   "execution_count": 34,
   "id": "5a50ab77",
   "metadata": {},
   "outputs": [
    {
     "data": {
      "text/plain": [
       "(20001, 154, 3)"
      ]
     },
     "execution_count": 34,
     "metadata": {},
     "output_type": "execute_result"
    }
   ],
   "source": [
    "tr.xyz.shape"
   ]
  },
  {
   "cell_type": "code",
   "execution_count": 25,
   "id": "7cff93f2",
   "metadata": {
    "slideshow": {
     "slide_type": "slide"
    }
   },
   "outputs": [
    {
     "data": {
      "text/plain": [
       "array([3.6393777e-09, 3.8691041e-09, 3.9732115e-09, 4.2129775e-09,\n",
       "       4.4868429e-09, 4.7057238e-09, 5.0029354e-09, 5.3640878e-09,\n",
       "       5.9629777e-09, 6.4575514e-09], dtype=float32)"
      ]
     },
     "execution_count": 25,
     "metadata": {},
     "output_type": "execute_result"
    }
   ],
   "source": [
    "xyz = np.reshape(tr.xyz,(tr.xyz.shape[0],tr.xyz.shape[1]*3))\n",
    "\n",
    "xyz_avg = np.average(xyz,axis=0)\n",
    "xyz -= xyz_avg\n",
    "\n",
    "cor = np.matmul(np.transpose(xyz),xyz)\n",
    "cor /= xyz.shape[0]\n",
    "\n",
    "eig = np.abs(np.sort(np.linalg.eigvalsh(cor)))\n",
    "\n",
    "sum = np.sum(eig)\n",
    "eig /= sum\n",
    "eig = np.flip(eig)\n",
    "eig[-10:]"
   ]
  },
  {
   "cell_type": "code",
   "execution_count": 26,
   "id": "23b42c4d",
   "metadata": {
    "slideshow": {
     "slide_type": "slide"
    }
   },
   "outputs": [
    {
     "data": {
      "text/plain": [
       "array([8.2329732e-01, 1.0072484e-01, 5.5479806e-02, 7.1926229e-03,\n",
       "       5.1617385e-03, 2.4225998e-03, 9.7599847e-04, 7.8792940e-04,\n",
       "       7.2318432e-04, 3.9438155e-04], dtype=float32)"
      ]
     },
     "execution_count": 26,
     "metadata": {},
     "output_type": "execute_result"
    }
   ],
   "source": [
    "tr2 = tr[:int(.8*tr.xyz.shape[0]):]\n",
    "xyz2 = np.reshape(tr2.xyz,(tr2.xyz.shape[0],tr2.xyz.shape[1]*3))\n",
    "xyz2_avg = np.average(xyz2,axis=0)\n",
    "xyz2 -= xyz2_avg\n",
    "\n",
    "cor2 = np.matmul(np.transpose(xyz2),xyz2)\n",
    "cor2 /= xyz2.shape[0]\n",
    "\n",
    "eig2 = np.abs(np.sort(np.linalg.eigvalsh(cor2)))\n",
    "\n",
    "sum = np.sum(eig2)\n",
    "eig2 /= sum\n",
    "eig2 = np.flip(eig2)\n",
    "eig2[:10]"
   ]
  },
  {
   "cell_type": "code",
   "execution_count": 33,
   "id": "f7ec12a6",
   "metadata": {
    "slideshow": {
     "slide_type": "slide"
    }
   },
   "outputs": [
    {
     "data": {
      "image/png": "[encoded data removed]",
      "text/plain": [
       "<Figure size 1440x864 with 1 Axes>"
      ]
     },
     "metadata": {
      "needs_background": "light"
     },
     "output_type": "display_data"
    }
   ],
   "source": [
    "import matplotlib.pyplot as plt\n",
    "\n",
    "plt.figure(figsize=(20,12))\n",
    "plt.plot(np.cumsum(eig[:10]),label='eig')\n",
    "plt.plot(np.cumsum(eig2[:10]),label='eig2')\n",
    "plt.legend()\n",
    "plt.show()"
   ]
  },
  {
   "cell_type": "markdown",
   "id": "5f2cc0ec",
   "metadata": {
    "slideshow": {
     "slide_type": "slide"
    }
   },
   "source": [
    "# Ať pracují jiní "
   ]
  },
  {
   "cell_type": "markdown",
   "id": "e87fbf51",
   "metadata": {
    "slideshow": {
     "slide_type": "slide"
    }
   },
   "source": [
    "# Náboženství GILu"
   ]
  },
  {
   "cell_type": "markdown",
   "id": "a286b051",
   "metadata": {
    "slideshow": {
     "slide_type": "slide"
    }
   },
   "source": [
    "# A přece se kompiluje!"
   ]
  },
  {
   "cell_type": "code",
   "execution_count": null,
   "id": "00a552a6",
   "metadata": {},
   "outputs": [],
   "source": []
  }
 ],
 "metadata": {
  "celltoolbar": "Slideshow",
  "kernelspec": {
   "display_name": "Python 3",
   "language": "python",
   "name": "python3"
  },
  "language_info": {
   "codemirror_mode": {
    "name": "ipython",
    "version": 3
   },
   "file_extension": ".py",
   "mimetype": "text/x-python",
   "name": "python",
   "nbconvert_exporter": "python",
   "pygments_lexer": "ipython3",
   "version": "3.6.9"
  },
  "rise": {
   "autolaunch": true,
   "controls": false,
   "enable_chalkboard": true,
   "slideNumber": "c/t",
   "theme": "ljocha"
  }
 },
 "nbformat": 4,
 "nbformat_minor": 5
}

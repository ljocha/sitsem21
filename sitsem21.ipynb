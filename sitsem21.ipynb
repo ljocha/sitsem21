{
 "cells": [
  {
   "cell_type": "markdown",
   "id": "d7434f22",
   "metadata": {
    "slideshow": {
     "slide_type": "slide"
    }
   },
   "source": [
    "# Amdahl je kámoš"
   ]
  },
  {
   "cell_type": "markdown",
   "id": "914f8230",
   "metadata": {
    "slideshow": {
     "slide_type": "slide"
    }
   },
   "source": [
    "# Nenapíšeš cyklus!"
   ]
  },
  {
   "cell_type": "code",
   "execution_count": 1,
   "id": "2dd3e0bb",
   "metadata": {},
   "outputs": [],
   "source": [
    "loop_times = []\n",
    "numpy_times = []"
   ]
  },
  {
   "cell_type": "code",
   "execution_count": 6,
   "id": "c8e70321",
   "metadata": {},
   "outputs": [
    {
     "data": {
      "text/plain": [
       "[5.385334968799725, 5.583352563902736, 5.6069321618415415]"
      ]
     },
     "execution_count": 6,
     "metadata": {},
     "output_type": "execute_result"
    }
   ],
   "source": [
    "import random\n",
    "from timeit import default_timer as timer\n",
    "\n",
    "N = 300\n",
    "A = [ [ random.random() for _ in range(N)] for _ in range(N)]\n",
    "B = [ [ random.random() for _ in range(N)] for _ in range(N)]\n",
    "C = [ [ 0. for _ in range(N)] for _ in range(N)]\n",
    "\n",
    "start = timer()\n",
    "for i in range(N):\n",
    "    for j in range(N):\n",
    "        for k in range(N):\n",
    "            C[i][j] += A[i][k] * B[k][j]\n",
    "            \n",
    "end = timer()\n",
    "loop_times.append(end-start)\n",
    "sorted(loop_times)"
   ]
  },
  {
   "cell_type": "code",
   "execution_count": 7,
   "id": "9751bc14",
   "metadata": {
    "slideshow": {
     "slide_type": "slide"
    }
   },
   "outputs": [
    {
     "data": {
      "text/plain": [
       "[15.728118447121233, 15.739400597987697, 15.86636708304286]"
      ]
     },
     "execution_count": 7,
     "metadata": {},
     "output_type": "execute_result"
    }
   ],
   "source": [
    "N = 10000\n",
    "import numpy as np\n",
    "A = np.zeros((N,N),dtype=np.float32)\n",
    "A += np.random.rand(N,N)\n",
    "B = np.zeros((N,N),dtype=np.float32)\n",
    "B += np.random.rand(N,N)\n",
    "\n",
    "start = timer()\n",
    "C = np.matmul(A,B)\n",
    "end = timer()\n",
    "numpy_times.append(end-start)\n",
    "sorted(numpy_times)\n"
   ]
  },
  {
   "cell_type": "code",
   "execution_count": 23,
   "id": "6073a4ee",
   "metadata": {
    "slideshow": {
     "slide_type": "slide"
    }
   },
   "outputs": [
    {
     "ename": "KeyboardInterrupt",
     "evalue": "",
     "output_type": "error",
     "traceback": [
      "\u001b[0;31m---------------------------------------------------------------------------\u001b[0m",
      "\u001b[0;31mKeyboardInterrupt\u001b[0m                         Traceback (most recent call last)",
      "\u001b[0;32m<ipython-input-23-d1ea0d073c50>\u001b[0m in \u001b[0;36m<module>\u001b[0;34m\u001b[0m\n\u001b[1;32m      5\u001b[0m     \u001b[0;32mfor\u001b[0m \u001b[0mj\u001b[0m \u001b[0;32min\u001b[0m \u001b[0mrange\u001b[0m\u001b[0;34m(\u001b[0m\u001b[0mN\u001b[0m\u001b[0;34m)\u001b[0m\u001b[0;34m:\u001b[0m\u001b[0;34m\u001b[0m\u001b[0;34m\u001b[0m\u001b[0m\n\u001b[1;32m      6\u001b[0m         \u001b[0;32mfor\u001b[0m \u001b[0mk\u001b[0m \u001b[0;32min\u001b[0m \u001b[0mrange\u001b[0m\u001b[0;34m(\u001b[0m\u001b[0mN\u001b[0m\u001b[0;34m)\u001b[0m\u001b[0;34m:\u001b[0m\u001b[0;34m\u001b[0m\u001b[0;34m\u001b[0m\u001b[0m\n\u001b[0;32m----> 7\u001b[0;31m             \u001b[0mC\u001b[0m\u001b[0;34m[\u001b[0m\u001b[0mi\u001b[0m\u001b[0;34m]\u001b[0m\u001b[0;34m[\u001b[0m\u001b[0mj\u001b[0m\u001b[0;34m]\u001b[0m \u001b[0;34m+=\u001b[0m \u001b[0mA\u001b[0m\u001b[0;34m[\u001b[0m\u001b[0mi\u001b[0m\u001b[0;34m]\u001b[0m\u001b[0;34m[\u001b[0m\u001b[0mk\u001b[0m\u001b[0;34m]\u001b[0m \u001b[0;34m*\u001b[0m \u001b[0mB\u001b[0m\u001b[0;34m[\u001b[0m\u001b[0mk\u001b[0m\u001b[0;34m]\u001b[0m\u001b[0;34m[\u001b[0m\u001b[0mj\u001b[0m\u001b[0;34m]\u001b[0m\u001b[0;34m\u001b[0m\u001b[0;34m\u001b[0m\u001b[0m\n\u001b[0m\u001b[1;32m      8\u001b[0m \u001b[0;34m\u001b[0m\u001b[0m\n\u001b[1;32m      9\u001b[0m \u001b[0mend\u001b[0m \u001b[0;34m=\u001b[0m \u001b[0mtimer\u001b[0m\u001b[0;34m(\u001b[0m\u001b[0;34m)\u001b[0m\u001b[0;34m\u001b[0m\u001b[0;34m\u001b[0m\u001b[0m\n",
      "\u001b[0;31mKeyboardInterrupt\u001b[0m: "
     ]
    }
   ],
   "source": [
    "C = np.zeros((N,N),dtype=np.float32)\n",
    "\n",
    "start = timer()\n",
    "for i in range(N):\n",
    "    for j in range(N):\n",
    "        for k in range(N):\n",
    "            C[i][j] += A[i][k] * B[k][j]\n",
    "            \n",
    "end = timer()\n",
    "end-start"
   ]
  },
  {
   "cell_type": "markdown",
   "id": "5f2cc0ec",
   "metadata": {
    "slideshow": {
     "slide_type": "slide"
    }
   },
   "source": [
    "# Ať pracují jiní "
   ]
  },
  {
   "cell_type": "markdown",
   "id": "e87fbf51",
   "metadata": {
    "slideshow": {
     "slide_type": "slide"
    }
   },
   "source": [
    "# Náboženství GILu"
   ]
  },
  {
   "cell_type": "markdown",
   "id": "a286b051",
   "metadata": {
    "slideshow": {
     "slide_type": "slide"
    }
   },
   "source": [
    "# A přece se kompiluje!"
   ]
  },
  {
   "cell_type": "code",
   "execution_count": null,
   "id": "00a552a6",
   "metadata": {},
   "outputs": [],
   "source": []
  }
 ],
 "metadata": {
  "celltoolbar": "Slideshow",
  "kernelspec": {
   "display_name": "Python 3",
   "language": "python",
   "name": "python3"
  },
  "language_info": {
   "codemirror_mode": {
    "name": "ipython",
    "version": 3
   },
   "file_extension": ".py",
   "mimetype": "text/x-python",
   "name": "python",
   "nbconvert_exporter": "python",
   "pygments_lexer": "ipython3",
   "version": "3.6.9"
  }
 },
 "nbformat": 4,
 "nbformat_minor": 5
}

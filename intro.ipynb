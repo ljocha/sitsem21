{
 "cells": [
  {
   "cell_type": "markdown",
   "id": "d7434f22",
   "metadata": {
    "slideshow": {
     "slide_type": "slide"
    }
   },
   "source": [
    "# Efektivní výpočty\n",
    "### Aleš Křenek, Jiří Filipovič, David Střelák, Jaroslav Olha\n",
    "#### Sitsem, 9.9.2021, Telč"
   ]
  },
  {
   "cell_type": "markdown",
   "id": "914f8230",
   "metadata": {
    "slideshow": {
     "slide_type": "slide"
    }
   },
   "source": [
    "# Proč počítat?"
   ]
  },
  {
   "cell_type": "markdown",
   "id": "bdf72957",
   "metadata": {
    "slideshow": {
     "slide_type": "slide"
    }
   },
   "source": [
    "- Digitální multimédia\n",
    "- Střílečky a animáky\n",
    "- Sociální sítě a velká data\n",
    "- Kryptoměny\n",
    "- Inženýrské aplikace, digitální dvojčata\n",
    "- Aplikace ve vědě, zpracování dat, simulace"
   ]
  },
  {
   "cell_type": "markdown",
   "id": "218690c4",
   "metadata": {
    "slideshow": {
     "slide_type": "slide"
    }
   },
   "source": [
    "## Mooreův zákon\n",
    "- Za stejné peníze dostanu každých 18-24 měsíců dvojnásobný výkon\n",
    "- Exponenciální růst posledních téměř 50 let\n",
    "- Stále je třeba dostupný výkon umět využít"
   ]
  },
  {
   "cell_type": "markdown",
   "id": "54affb71",
   "metadata": {
    "slideshow": {
     "slide_type": "slide"
    }
   },
   "source": [
    "## Složitost a efektivita\n",
    "\n",
    "- Matematik: konečné problémy nejsou zajímavé\n",
    "- Teoretický informatik: zajímavé jsou NP-úplné problémy\n",
    "- Praktický informatik: co není polynomiální, to nespočítám\n",
    "- Opravdový výpočtář\n",
    "  - s asymptotickou složitostí musím žít\n",
    "  - **na konstatntním faktoru záleží**"
   ]
  },
  {
   "cell_type": "code",
   "execution_count": 4,
   "id": "c8e70321",
   "metadata": {
    "slideshow": {
     "slide_type": "slide"
    }
   },
   "outputs": [],
   "source": [
    "import random\n",
    "from timeit import default_timer as timer\n",
    "\n",
    "N = 300\n",
    "A = [ [ random.random() for _ in range(N)] for _ in range(N)]\n",
    "B = [ [ random.random() for _ in range(N)] for _ in range(N)]\n",
    "C = [ [ 0. for _ in range(N)] for _ in range(N)]\n",
    "\n",
    "start = timer()\n",
    "for i in range(N):\n",
    "    for j in range(N):\n",
    "        for k in range(N):\n",
    "            C[i][j] += A[i][k] * B[k][j]\n",
    "            \n",
    "end = timer()"
   ]
  },
  {
   "cell_type": "code",
   "execution_count": 6,
   "id": "c37565de",
   "metadata": {
    "slideshow": {
     "slide_type": "slide"
    }
   },
   "outputs": [
    {
     "data": {
      "text/plain": [
       "0.008676875559147526"
      ]
     },
     "execution_count": 6,
     "metadata": {},
     "output_type": "execute_result"
    }
   ],
   "source": [
    "# Pozorovaný výkon (GFLOPS)\n",
    "time = end-start\n",
    "ops = 2 * N**3\n",
    "measured = ops / time / 1e9\n",
    "measured"
   ]
  },
  {
   "cell_type": "code",
   "execution_count": 11,
   "id": "ead3f937",
   "metadata": {
    "slideshow": {
     "slide_type": "fragment"
    }
   },
   "outputs": [
    {
     "data": {
      "text/plain": [
       "20.772912969001574"
      ]
     },
     "execution_count": 11,
     "metadata": {},
     "output_type": "execute_result"
    }
   ],
   "source": [
    "# Očekávaný teoretický výkon (32bit float, jedno jádro tohoto CPU)\n",
    "expect = 128\n",
    "\n",
    "# Doba potřebná k \"dohnání\" Moorovým zákonem\n",
    "# ... za předpokladu, že stroje budoucnosti můj hloupý kód využije aspoň stejně dobře\n",
    "import math\n",
    "math.log2(expect/measured)*18/12"
   ]
  },
  {
   "cell_type": "markdown",
   "id": "3f4703a4",
   "metadata": {
    "slideshow": {
     "slide_type": "slide"
    }
   },
   "source": [
    "## Hrubá síla nevítězí\n",
    "\n",
    "- Dostupný výkon současného hardware (CPU, GPU, ...) je impozantní\n",
    "- Dosažen je komplikovanými technickými prostředky\n",
    "- Využít ho alespoň uspokojivě není jednoduché\n",
    "- Řešení \"koupím lepší počítač\" v případě výpočetních problémů příliš nefunguje\n",
    "    \n"
   ]
  },
  {
   "cell_type": "markdown",
   "id": "06a17021",
   "metadata": {
    "slideshow": {
     "slide_type": "slide"
    }
   },
   "source": [
    "## Přehled bloku\n",
    "\n",
    "- Interpretované jazyky\n",
    "  - rychlá implementace, první volba při řešení nového problému\n",
    "  - i v nich lze řadu problému vyřešit s uspokojivou efektivitou\n",
    "- Kompilace\n",
    "  - identifikovali jsme výkonově problematickou část, v Pythonu/R/... s ní už nic nenaděláme\n",
    "  - kód přepíšeme do C/C++, co s ním poté umí provést kompilátor a jak ho k tomu přimět\n",
    "- Profilování \n",
    "  - funkčně je kód v C/C++ v pořádku, výkonově to stále ještě není ono\n",
    "  - jak najít, co je špatně\n"
   ]
  },
  {
   "cell_type": "markdown",
   "id": "35f42e16",
   "metadata": {
    "slideshow": {
     "slide_type": "slide"
    }
   },
   "source": [
    "## Přehled bloku\n",
    "- Optimalizační triky\n",
    "  - ne všechny implementace jsou stejně dobré, jak jim lze pomoci\n",
    "- Zahodit i s rukama\n",
    "  - v jistých situacích má smysl (se znalostí podstaty výkonového problému) část kódu úplně přepsat\n",
    "- A konečně ta věda\n",
    "  - přístupy a techniky, kterými naše HPC skupina posouvá oblast efektivních výpočtů dál\n"
   ]
  }
 ],
 "metadata": {
  "celltoolbar": "Slideshow",
  "kernelspec": {
   "display_name": "Python 3",
   "language": "python",
   "name": "python3"
  },
  "language_info": {
   "codemirror_mode": {
    "name": "ipython",
    "version": 3
   },
   "file_extension": ".py",
   "mimetype": "text/x-python",
   "name": "python",
   "nbconvert_exporter": "python",
   "pygments_lexer": "ipython3",
   "version": "3.6.9"
  },
  "rise": {
   "autolaunch": true,
   "controls": false,
   "enable_chalkboard": true,
   "slideNumber": "c/t",
   "theme": "ljocha"
  }
 },
 "nbformat": 4,
 "nbformat_minor": 5
}

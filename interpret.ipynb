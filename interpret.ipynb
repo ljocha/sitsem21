{
 "cells": [
  {
   "cell_type": "markdown",
   "id": "5a952619",
   "metadata": {
    "slideshow": {
     "slide_type": "slide"
    }
   },
   "source": [
    "# Interpretované jazyky: lze v nich počítat efektivně?\n",
    "\n",
    "### Aleš Křenek\n",
    "### Sitsem, 9.9.2021, Telč"
   ]
  },
  {
   "cell_type": "markdown",
   "id": "d7434f22",
   "metadata": {
    "slideshow": {
     "slide_type": "slide"
    }
   },
   "source": [
    "\n",
    "# Amdahl je kámoš"
   ]
  },
  {
   "cell_type": "markdown",
   "id": "a91a3d6d",
   "metadata": {
    "slideshow": {
     "slide_type": "slide"
    }
   },
   "source": [
    "## Amdahlův zákon v praxi\n",
    "- Řidič Pepa v 7:00 nastartuje dodávku s nářadím a jede na nejmenovanou brněnskou ulici. Cesta mu trvá 10 minut.\n",
    "- Kopáč Fero nafasuje krumpáč a začne kopat. Ve 14:00 má hotovo a odchází na pivo.\n",
    "- Kolikrát lze vykopání příkopu limitně zrychlit, dokážeme-li najmout potenciálně nekonečný počet kopáčů, pro všechny máme nářadí a vzájemně si nepřekáží?"
   ]
  },
  {
   "cell_type": "markdown",
   "id": "27417efa",
   "metadata": {
    "slideshow": {
     "slide_type": "slide"
    }
   },
   "source": [
    "### Negativní interpretace\n",
    "- Žádný program nelze zrychlit přes jeho nejpomalejší (neparalelizovatelnou) část"
   ]
  },
  {
   "cell_type": "markdown",
   "id": "9b0313e4",
   "metadata": {
    "slideshow": {
     "slide_type": "fragment"
    }
   },
   "source": [
    "### Pozitivní interpretace\n",
    "- Nemá smysl snažit se urychlit části, které nejsou výkonově kritické\n",
    "- Klidně mohou zůstat v pomalém interpretovaném jazyce (pohodlném na implementaci) a ničemu to nevadí"
   ]
  },
  {
   "cell_type": "markdown",
   "id": "914f8230",
   "metadata": {
    "slideshow": {
     "slide_type": "slide"
    }
   },
   "source": [
    "# Nenapíšeš cyklus!"
   ]
  },
  {
   "cell_type": "markdown",
   "id": "bdf72957",
   "metadata": {
    "slideshow": {
     "slide_type": "slide"
    }
   },
   "source": [
    "## Násobení matic"
   ]
  },
  {
   "cell_type": "code",
   "execution_count": 7,
   "id": "2dd3e0bb",
   "metadata": {},
   "outputs": [],
   "source": [
    "import os\n",
    "os.environ['OMP_NUM_THREADS'] = '1'\n",
    "import numpy as np\n",
    "import random\n",
    "from timeit import default_timer as timer\n",
    "\n",
    "loop_times = []\n",
    "numpy_times = []"
   ]
  },
  {
   "cell_type": "code",
   "execution_count": 8,
   "id": "c8e70321",
   "metadata": {},
   "outputs": [],
   "source": [
    "N = 300\n",
    "A = [ [ random.random() for _ in range(N)] for _ in range(N)]\n",
    "B = [ [ random.random() for _ in range(N)] for _ in range(N)]\n",
    "C = [ [ 0. for _ in range(N)] for _ in range(N)]"
   ]
  },
  {
   "cell_type": "code",
   "execution_count": 9,
   "id": "a8459eaa",
   "metadata": {
    "slideshow": {
     "slide_type": "slide"
    }
   },
   "outputs": [
    {
     "data": {
      "text/plain": [
       "[5.5790811772458255]"
      ]
     },
     "execution_count": 9,
     "metadata": {},
     "output_type": "execute_result"
    }
   ],
   "source": [
    "start = timer()\n",
    "for i in range(N):\n",
    "    for j in range(N):\n",
    "        for k in range(N):\n",
    "            C[i][j] += A[i][k] * B[k][j]\n",
    "            \n",
    "end = timer()\n",
    "loop_times.append(end-start)\n",
    "sorted(loop_times)"
   ]
  },
  {
   "cell_type": "markdown",
   "id": "91cdfc36",
   "metadata": {
    "slideshow": {
     "slide_type": "slide"
    }
   },
   "source": [
    "### Pozorovaný výkon (GFLOPS)"
   ]
  },
  {
   "cell_type": "code",
   "execution_count": 10,
   "id": "c37565de",
   "metadata": {
    "slideshow": {
     "slide_type": "-"
    }
   },
   "outputs": [
    {
     "data": {
      "text/plain": [
       "0.009679013135753957"
      ]
     },
     "execution_count": 10,
     "metadata": {},
     "output_type": "execute_result"
    }
   ],
   "source": [
    "mint = min(loop_times)\n",
    "ops = 2 * N**3\n",
    "ops / mint / 1e9"
   ]
  },
  {
   "cell_type": "markdown",
   "id": "3f4703a4",
   "metadata": {
    "slideshow": {
     "slide_type": "-"
    }
   },
   "source": [
    "### Očekávaný výkon\n",
    "\n",
    "\n",
    "<table>\n",
    "    <tr><th>Model</th><th>GHz</th><th>CPI</th><th>AVX</th><th>FMA</th><th>GFLOPS (float64)</th></tr>\n",
    "    <tr><td>i7-4790K</td><td>4.00</td><td>0.5</td><td>256</td><td>ano</td><td>64</td></tr>\n",
    "    <tr><td>i5-6600</td><td>3.3</td><td>0.5</td><td>256</td><td>ano</td><td>53</td></tr>\n",
    "    <tr><td>Xeon Gold 6138</td><td>2.00</td><td>0.5</td><td>512</td><td>ano</td><td>64</td></tr>\n",
    "    <tr><td>AMD Ryzen 3900X</td><td>3.80</td><td>0.5</td><td>256</td><td>ano</td><td>60</td></tr>\n",
    "</table>\n",
    "\n",
    "$$ \\text{GFLOPS} = \\text{GHz} / \\text{CPI} * \\text{AVX} / 64 * (\\text{FMA ? 2 : 1}) $$\n",
    "\n",
    "\n",
    "CPI viz http://uops.info/\n",
    "    \n"
   ]
  },
  {
   "cell_type": "code",
   "execution_count": 11,
   "id": "9751bc14",
   "metadata": {
    "slideshow": {
     "slide_type": "slide"
    }
   },
   "outputs": [
    {
     "data": {
      "text/plain": [
       "[8.637509757652879]"
      ]
     },
     "execution_count": 11,
     "metadata": {},
     "output_type": "execute_result"
    }
   ],
   "source": [
    "N = 10000\n",
    "A = np.random.rand(N,N)\n",
    "B = np.random.rand(N,N)\n",
    "\n",
    "start = timer()\n",
    "C = np.matmul(A,B)\n",
    "end = timer()\n",
    "numpy_times.append(end-start)\n",
    "sorted(numpy_times)"
   ]
  },
  {
   "cell_type": "code",
   "execution_count": 12,
   "id": "1f0ae187",
   "metadata": {},
   "outputs": [
    {
     "data": {
      "text/plain": [
       "231.5482188865824"
      ]
     },
     "execution_count": 12,
     "metadata": {},
     "output_type": "execute_result"
    }
   ],
   "source": [
    "# Pozorovaný výkon (GFLOPS)\n",
    "mint = min(numpy_times)\n",
    "ops = 2 * N**3\n",
    "ops / mint / 1e9"
   ]
  },
  {
   "cell_type": "code",
   "execution_count": 13,
   "id": "6073a4ee",
   "metadata": {
    "slideshow": {
     "slide_type": "slide"
    }
   },
   "outputs": [
    {
     "data": {
      "text/plain": [
       "25.90982114803046"
      ]
     },
     "execution_count": 13,
     "metadata": {},
     "output_type": "execute_result"
    }
   ],
   "source": [
    "# Není problém ve standardním pythonovém typu float?\n",
    "\n",
    "N = 300\n",
    "A = np.random.rand(N,N)\n",
    "B = np.random.rand(N,N)\n",
    "C = np.zeros((N,N))\n",
    "\n",
    "start = timer()\n",
    "for i in range(N):\n",
    "    for j in range(N):\n",
    "        for k in range(N):\n",
    "            C[i][j] += A[i][k] * B[k][j]\n",
    "            \n",
    "end = timer()\n",
    "end-start"
   ]
  },
  {
   "cell_type": "markdown",
   "id": "6ddaea5c",
   "metadata": {
    "slideshow": {
     "slide_type": "slide"
    }
   },
   "source": [
    "## Stabilita trajektorie\n",
    "\n",
    "- Vývoj nějakého procesu v čase -- posloupnost $m$ bodů $x_k\\in R^n$\n",
    "- Chceme zjistit, zda se děje ještě něco nového, nebo se vše podstatné už jen opakuje\n",
    "\n",
    "- Korelace jednotlivých souřadnic\n",
    "$$ c_{ij} = \\sum_{k=1}^m (x_{ik} - \\bar x_i) ( x_{jk} - \\bar x_j) $$\n",
    "kde $ \\bar x_i = \\sum_{k=1}^m x_{ki}/m$\n",
    "\n",
    "- Největší vlastní hodnoty matice korelací (do součtu 90 % apod) postihují \"to podstatné\"\n",
    "- Pokud se významně nezmění mezi např. 70 % a 100 % trajektorie, lze tvrdit, že už je stabilní\n",
    "- Jako domácí cvičení z lineární algebry si rozmyslete, proč to funguje\n"
   ]
  },
  {
   "cell_type": "code",
   "execution_count": 14,
   "id": "70564391",
   "metadata": {
    "slideshow": {
     "slide_type": "slide"
    }
   },
   "outputs": [
    {
     "name": "stderr",
     "output_type": "stream",
     "text": [
      "/usr/local/lib/python3.6/dist-packages/mdtraj/formats/pdb/pdbfile.py:198: UserWarning: Unlikely unit cell vectors detected in PDB file likely resulting from a dummy CRYST1 record. Discarding unit cell vectors.\n",
      "  'cell vectors.', category=UserWarning)\n"
     ]
    },
    {
     "data": {
      "text/plain": [
       "<mdtraj.Trajectory with 20001 frames, 304 atoms, 20 residues, and unitcells at 0x7f816eab6208>"
      ]
     },
     "execution_count": 14,
     "metadata": {},
     "output_type": "execute_result"
    }
   ],
   "source": [
    "import mdtraj as md\n",
    "\n",
    "tr = md.load('pbc3.xtc',top='1L2Y.pdb')\n",
    "idx=tr.top.select(\"protein and element != H\")\n",
    "# tr.atom_slice(idx,inplace=True)\n",
    "tr"
   ]
  },
  {
   "cell_type": "code",
   "execution_count": 15,
   "id": "5a50ab77",
   "metadata": {},
   "outputs": [
    {
     "data": {
      "text/plain": [
       "(20001, 304, 3)"
      ]
     },
     "execution_count": 15,
     "metadata": {},
     "output_type": "execute_result"
    }
   ],
   "source": [
    "tr.xyz.shape"
   ]
  },
  {
   "cell_type": "code",
   "execution_count": 16,
   "id": "7cff93f2",
   "metadata": {
    "slideshow": {
     "slide_type": "slide"
    }
   },
   "outputs": [
    {
     "data": {
      "text/plain": [
       "array([8.6611563e-01, 6.5118827e-02, 5.3016812e-02, 5.4081203e-03,\n",
       "       3.6751181e-03, 1.5851937e-03, 6.8124972e-04, 6.0700055e-04,\n",
       "       5.0445402e-04, 3.6924987e-04], dtype=float32)"
      ]
     },
     "execution_count": 16,
     "metadata": {},
     "output_type": "execute_result"
    }
   ],
   "source": [
    "xyz = np.reshape(tr.xyz,(tr.xyz.shape[0],tr.xyz.shape[1]*3))\n",
    "\n",
    "xyz_avg = np.average(xyz,axis=0)\n",
    "xyz -= xyz_avg\n",
    "\n",
    "cor = np.matmul(np.transpose(xyz),xyz)\n",
    "cor /= xyz.shape[0]\n",
    "\n",
    "eig = np.abs(np.sort(np.linalg.eigvalsh(cor)))\n",
    "\n",
    "esum = np.sum(eig)\n",
    "eig /= esum\n",
    "eig = np.flip(eig)\n",
    "eig[:10]"
   ]
  },
  {
   "cell_type": "code",
   "execution_count": 17,
   "id": "23b42c4d",
   "metadata": {
    "slideshow": {
     "slide_type": "slide"
    }
   },
   "outputs": [
    {
     "data": {
      "text/plain": [
       "array([8.22489083e-01, 1.00286655e-01, 5.54277375e-02, 7.26932101e-03,\n",
       "       5.20591857e-03, 2.41178484e-03, 9.82072903e-04, 8.04731331e-04,\n",
       "       7.52232329e-04, 5.42573223e-04], dtype=float32)"
      ]
     },
     "execution_count": 17,
     "metadata": {},
     "output_type": "execute_result"
    }
   ],
   "source": [
    "tr2 = tr[:int(.8*tr.xyz.shape[0]):]\n",
    "xyz2 = np.reshape(tr2.xyz,(tr2.xyz.shape[0],tr2.xyz.shape[1]*3))\n",
    "xyz2_avg = np.average(xyz2,axis=0)\n",
    "xyz2 -= xyz2_avg\n",
    "\n",
    "cor2 = np.matmul(np.transpose(xyz2),xyz2)\n",
    "cor2 /= xyz2.shape[0]\n",
    "\n",
    "eig2 = np.abs(np.sort(np.linalg.eigvalsh(cor2)))\n",
    "\n",
    "esum = np.sum(eig2)\n",
    "eig2 /= esum\n",
    "eig2 = np.flip(eig2)\n",
    "eig2[:10]"
   ]
  },
  {
   "cell_type": "code",
   "execution_count": 18,
   "id": "f7ec12a6",
   "metadata": {
    "slideshow": {
     "slide_type": "slide"
    }
   },
   "outputs": [
    {
     "data": {
      "image/png": "[encoded data removed]",
      "text/plain": [
       "<Figure size 864x576 with 1 Axes>"
      ]
     },
     "metadata": {
      "needs_background": "light"
     },
     "output_type": "display_data"
    }
   ],
   "source": [
    "import matplotlib.pyplot as plt\n",
    "\n",
    "plt.figure(figsize=(12,8))\n",
    "plt.plot(np.cumsum(eig[:10]),label='eig')\n",
    "plt.plot(np.cumsum(eig2[:10]),label='eig2')\n",
    "plt.legend()\n",
    "plt.show()"
   ]
  },
  {
   "cell_type": "markdown",
   "id": "5f2cc0ec",
   "metadata": {
    "slideshow": {
     "slide_type": "slide"
    }
   },
   "source": [
    "# Ať pracují jiní \n"
   ]
  },
  {
   "cell_type": "markdown",
   "id": "7f25b4a4",
   "metadata": {
    "slideshow": {
     "slide_type": "slide"
    }
   },
   "source": [
    "- triviální příklad -- hledání kořene funkce Newtonovou metodou\n",
    "- máme vlastní funkci a umíme spočítat její derivaci"
   ]
  },
  {
   "cell_type": "code",
   "execution_count": 19,
   "id": "d8581048",
   "metadata": {
    "slideshow": {
     "slide_type": "-"
    }
   },
   "outputs": [],
   "source": [
    "def myf(x,*freq):\n",
    "    y = 0.\n",
    "    for f in freq:\n",
    "        y += np.sin(x*f)\n",
    "    return y\n",
    "\n",
    "def myfprime(x,*freq):\n",
    "    yprime = 0.\n",
    "    for f in freq:\n",
    "        yprime = f*np.cos(x*f)\n",
    "    return yprime"
   ]
  },
  {
   "cell_type": "markdown",
   "id": "42499709",
   "metadata": {
    "slideshow": {
     "slide_type": "slide"
    }
   },
   "source": [
    "### Vlastní implementace"
   ]
  },
  {
   "cell_type": "code",
   "execution_count": 20,
   "id": "0548d3ec",
   "metadata": {
    "slideshow": {
     "slide_type": "-"
    }
   },
   "outputs": [
    {
     "name": "stdout",
     "output_type": "stream",
     "text": [
      "[0.5, 1.6374695910121888, 1.36198464726053, 1.5123553118738675, 1.4639002494803997, 1.4802966644185476, 1.4753153175459273, 1.476873663976801, 1.4763908979638025, 1.4765409020058125, 1.4764943364156673, 1.476508795890053, 1.4765043063588927, 1.4765057003549766, 1.476505267523968]\n"
     ]
    }
   ],
   "source": [
    "x = .5\n",
    "freq = [1.2, 3.5, 4.2]\n",
    "xs = []\n",
    "for _ in range(15):\n",
    "    xs.append(x)\n",
    "    x -= myf(x,*freq) / myfprime(x, *freq)\n",
    "print(xs)"
   ]
  },
  {
   "cell_type": "markdown",
   "id": "b16d357b",
   "metadata": {
    "slideshow": {
     "slide_type": "slide"
    }
   },
   "source": [
    "### Použijeme knihovnu"
   ]
  },
  {
   "cell_type": "code",
   "execution_count": 21,
   "id": "0e1af9c8",
   "metadata": {
    "slideshow": {
     "slide_type": "-"
    }
   },
   "outputs": [
    {
     "data": {
      "text/plain": [
       "1.4765053731448787"
      ]
     },
     "execution_count": 21,
     "metadata": {},
     "output_type": "execute_result"
    }
   ],
   "source": [
    "from scipy.optimize import newton\n",
    "\n",
    "x0 = .5\n",
    "newton(myf,x0,args=freq,fprime=myfprime)"
   ]
  },
  {
   "cell_type": "markdown",
   "id": "ac8954b0",
   "metadata": {
    "slideshow": {
     "slide_type": "slide"
    }
   },
   "source": [
    "## Knihovny vs. vlastní implementace\n",
    "- Na FI jsem se naučil programovat, tak to chci dělat!\n",
    "- Ale ... nemám-li vlastní původní algoritmus, pravděpodobně ho už naprogramoval někdo jiný\n",
    "- Pro Python, R, ... existuje nepřeberné množství knihoven (různé kvality)\n",
    "- Vemte na vědomí alespoň **numpy, scipy, pandas, sklearn, matplotlib**\n",
    "  - Drtivá většina výpočetně náročných problémů se redukuje na metody v nich implementované\n",
    "  - Jejich autoři věnovali vývoji více času než my a možná byli i chytřejší\n",
    "  - V některých případech stojí za to implementace od Intelu (demo)\n",
    "- Jinak napoví Google\n",
    "  - Buďte ovšem připraveni na cokoli, zejména fenomén \"vědeckého software\""
   ]
  },
  {
   "cell_type": "markdown",
   "id": "29b1e292",
   "metadata": {
    "slideshow": {
     "slide_type": "slide"
    }
   },
   "source": [
    "### Další příklad numerického výpočtu - isomap\n",
    "- jeden z mnoha způsobů projekce množiny bodů mnoharozměrného prostoru do 2-3D\n",
    "- vzdálenosti bodů jako nejkratší cesty v grafu jen s $n$ nejbližšími sousedy\n",
    "- projekce do 2D tak, aby byly tyto vzdálenosti co nejlépe zachovány\n",
    "  - netriviální optimalizační problém"
   ]
  },
  {
   "cell_type": "code",
   "execution_count": 22,
   "id": "9d113b6c",
   "metadata": {
    "slideshow": {
     "slide_type": "slide"
    }
   },
   "outputs": [],
   "source": [
    "triso = tr[::10]\n",
    "nsteps = len(triso)\n",
    "neighs = 3\n",
    "row,col,dat=([],[],[])\n",
    "\n",
    "for i in range(nsteps):\n",
    "    d = md.rmsd(triso,triso,frame=i)\n",
    "    d[range(i+1)] = np.inf\n",
    "    for _ in range(neighs):\n",
    "        j = np.argmin(d)\n",
    "        if d[j] < np.inf:\n",
    "            row.append(i)\n",
    "            col.append(j)\n",
    "            dat.append(d[j])\n",
    "            row.append(j)\n",
    "            col.append(i)\n",
    "            dat.append(d[j])\n",
    "            d[j] = np.inf"
   ]
  },
  {
   "cell_type": "code",
   "execution_count": 23,
   "id": "f0d12a2d",
   "metadata": {
    "slideshow": {
     "slide_type": "slide"
    }
   },
   "outputs": [],
   "source": [
    "# %%time\n",
    "from scipy.sparse import coo_matrix\n",
    "from sklearn.utils.graph_shortest_path import graph_shortest_path\n",
    "from sklearn.manifold import MDS\n",
    "\n",
    "dist = coo_matrix((dat,(row,col)),shape=(nsteps,nsteps))\n",
    "sp = graph_shortest_path(dist,directed=False)\n",
    "mds = MDS(n_components=2,dissimilarity='precomputed',n_jobs=8)\n",
    "emb = mds.fit_transform(sp)"
   ]
  },
  {
   "cell_type": "code",
   "execution_count": 24,
   "id": "67737efa",
   "metadata": {
    "slideshow": {
     "slide_type": "slide"
    }
   },
   "outputs": [
    {
     "data": {
      "image/png": "[encoded data removed]",
      "text/plain": [
       "<Figure size 864x576 with 1 Axes>"
      ]
     },
     "metadata": {
      "needs_background": "light"
     },
     "output_type": "display_data"
    }
   ],
   "source": [
    "plt.figure(figsize=(12,8))\n",
    "plt.scatter(*emb.transpose(),marker='.',label='full')\n",
    "plt.scatter(*emb[:-int(len(emb)*.1)].transpose(),marker='.',label='part')\n",
    "plt.legend()\n",
    "plt.show()"
   ]
  },
  {
   "cell_type": "markdown",
   "id": "e87fbf51",
   "metadata": {
    "slideshow": {
     "slide_type": "slide"
    }
   },
   "source": [
    "# Náboženství GILu"
   ]
  },
  {
   "cell_type": "markdown",
   "id": "0099ae7d",
   "metadata": {
    "slideshow": {
     "slide_type": "slide"
    }
   },
   "source": [
    "## Jeden zámek vládne všem\n",
    "- **Global Interpreter Lock** (GIL) je pragmatické řešení race-conditions při přístupu k paměťovým strukturám (tj. v podstatě cokoli v Pythonu)\n",
    "- Ve srovnání se samostatnými zámky úspornější a rychlejší, nemůže dojít k deadlocku, šetrnější k rozšířením\n",
    "- V tzv. \"normálním\" vícevláknovém kódu (čekání na I/O) ničemu nevadí\n",
    "- Zabiják výpočetního kódu -- efektivně vše serializuje\n",
    "- Zůstal v Pythonu3 ve většině mainstreamových implementací"
   ]
  },
  {
   "cell_type": "markdown",
   "id": "a776e414",
   "metadata": {
    "slideshow": {
     "slide_type": "slide"
    }
   },
   "source": [
    "## Co s tím?\n",
    "1. Máte velké matice? Nechte to na numpy (demo).\n",
    "  - implementace je \"mimo Python\", může si dělat, co chce\n",
    "1. Balíky podporující \"process pool\" (multiprocessing, concurrent, ...)\n",
    "  - různé konstrukce k pohodlnému použití více procesů (ne vláken)\n",
    "  - vhodné k hrubozrnnému paralelismu (větší režie)\n",
    "  - každý běží svoji instanci interpretu, tedy má i svůj GIL\n",
    "1. Další knihovny (sklearn) mají paralelní implementace vyřešené\n",
    "  - interně zpravidla process pool\n",
    "1. Sáhněte k alternativní implementaci pythonu (pypy)"
   ]
  },
  {
   "cell_type": "markdown",
   "id": "a286b051",
   "metadata": {
    "slideshow": {
     "slide_type": "slide"
    }
   },
   "source": [
    "# A přece se kompiluje!"
   ]
  },
  {
   "cell_type": "code",
   "execution_count": 25,
   "id": "00a552a6",
   "metadata": {
    "slideshow": {
     "slide_type": "slide"
    }
   },
   "outputs": [],
   "source": [
    "%load_ext Cython"
   ]
  },
  {
   "cell_type": "code",
   "execution_count": 26,
   "id": "1ccc8fc8",
   "metadata": {},
   "outputs": [
    {
     "data": {
      "text/html": [
       "<!DOCTYPE html>\n",
       "<!-- Generated by Cython 0.26.1 -->\n",
       "<html>\n",
       "<head>\n",
       "    <meta http-equiv=\"Content-Type\" content=\"text/html; charset=utf-8\" />\n",
       "    <title>Cython: _cython_magic_4fc12254f700455e2addb6dd526615d2.pyx</title>\n",
       "    <style type=\"text/css\">\n",
       "    \n",
       "body.cython { font-family: courier; font-size: 12; }\n",
       "\n",
       ".cython.tag  {  }\n",
       ".cython.line { margin: 0em }\n",
       ".cython.code { font-size: 9; color: #444444; display: none; margin: 0px 0px 0px 8px; border-left: 8px none; }\n",
       "\n",
       ".cython.line .run { background-color: #B0FFB0; }\n",
       ".cython.line .mis { background-color: #FFB0B0; }\n",
       ".cython.code.run  { border-left: 8px solid #B0FFB0; }\n",
       ".cython.code.mis  { border-left: 8px solid #FFB0B0; }\n",
       "\n",
       ".cython.code .py_c_api  { color: red; }\n",
       ".cython.code .py_macro_api  { color: #FF7000; }\n",
       ".cython.code .pyx_c_api  { color: #FF3000; }\n",
       ".cython.code .pyx_macro_api  { color: #FF7000; }\n",
       ".cython.code .refnanny  { color: #FFA000; }\n",
       ".cython.code .trace  { color: #FFA000; }\n",
       ".cython.code .error_goto  { color: #FFA000; }\n",
       "\n",
       ".cython.code .coerce  { color: #008000; border: 1px dotted #008000 }\n",
       ".cython.code .py_attr { color: #FF0000; font-weight: bold; }\n",
       ".cython.code .c_attr  { color: #0000FF; }\n",
       ".cython.code .py_call { color: #FF0000; font-weight: bold; }\n",
       ".cython.code .c_call  { color: #0000FF; }\n",
       "\n",
       ".cython.score-0 {background-color: #FFFFff;}\n",
       ".cython.score-1 {background-color: #FFFFe7;}\n",
       ".cython.score-2 {background-color: #FFFFd4;}\n",
       ".cython.score-3 {background-color: #FFFFc4;}\n",
       ".cython.score-4 {background-color: #FFFFb6;}\n",
       ".cython.score-5 {background-color: #FFFFaa;}\n",
       ".cython.score-6 {background-color: #FFFF9f;}\n",
       ".cython.score-7 {background-color: #FFFF96;}\n",
       ".cython.score-8 {background-color: #FFFF8d;}\n",
       ".cython.score-9 {background-color: #FFFF86;}\n",
       ".cython.score-10 {background-color: #FFFF7f;}\n",
       ".cython.score-11 {background-color: #FFFF79;}\n",
       ".cython.score-12 {background-color: #FFFF73;}\n",
       ".cython.score-13 {background-color: #FFFF6e;}\n",
       ".cython.score-14 {background-color: #FFFF6a;}\n",
       ".cython.score-15 {background-color: #FFFF66;}\n",
       ".cython.score-16 {background-color: #FFFF62;}\n",
       ".cython.score-17 {background-color: #FFFF5e;}\n",
       ".cython.score-18 {background-color: #FFFF5b;}\n",
       ".cython.score-19 {background-color: #FFFF57;}\n",
       ".cython.score-20 {background-color: #FFFF55;}\n",
       ".cython.score-21 {background-color: #FFFF52;}\n",
       ".cython.score-22 {background-color: #FFFF4f;}\n",
       ".cython.score-23 {background-color: #FFFF4d;}\n",
       ".cython.score-24 {background-color: #FFFF4b;}\n",
       ".cython.score-25 {background-color: #FFFF48;}\n",
       ".cython.score-26 {background-color: #FFFF46;}\n",
       ".cython.score-27 {background-color: #FFFF44;}\n",
       ".cython.score-28 {background-color: #FFFF43;}\n",
       ".cython.score-29 {background-color: #FFFF41;}\n",
       ".cython.score-30 {background-color: #FFFF3f;}\n",
       ".cython.score-31 {background-color: #FFFF3e;}\n",
       ".cython.score-32 {background-color: #FFFF3c;}\n",
       ".cython.score-33 {background-color: #FFFF3b;}\n",
       ".cython.score-34 {background-color: #FFFF39;}\n",
       ".cython.score-35 {background-color: #FFFF38;}\n",
       ".cython.score-36 {background-color: #FFFF37;}\n",
       ".cython.score-37 {background-color: #FFFF36;}\n",
       ".cython.score-38 {background-color: #FFFF35;}\n",
       ".cython.score-39 {background-color: #FFFF34;}\n",
       ".cython.score-40 {background-color: #FFFF33;}\n",
       ".cython.score-41 {background-color: #FFFF32;}\n",
       ".cython.score-42 {background-color: #FFFF31;}\n",
       ".cython.score-43 {background-color: #FFFF30;}\n",
       ".cython.score-44 {background-color: #FFFF2f;}\n",
       ".cython.score-45 {background-color: #FFFF2e;}\n",
       ".cython.score-46 {background-color: #FFFF2d;}\n",
       ".cython.score-47 {background-color: #FFFF2c;}\n",
       ".cython.score-48 {background-color: #FFFF2b;}\n",
       ".cython.score-49 {background-color: #FFFF2b;}\n",
       ".cython.score-50 {background-color: #FFFF2a;}\n",
       ".cython.score-51 {background-color: #FFFF29;}\n",
       ".cython.score-52 {background-color: #FFFF29;}\n",
       ".cython.score-53 {background-color: #FFFF28;}\n",
       ".cython.score-54 {background-color: #FFFF27;}\n",
       ".cython.score-55 {background-color: #FFFF27;}\n",
       ".cython.score-56 {background-color: #FFFF26;}\n",
       ".cython.score-57 {background-color: #FFFF26;}\n",
       ".cython.score-58 {background-color: #FFFF25;}\n",
       ".cython.score-59 {background-color: #FFFF24;}\n",
       ".cython.score-60 {background-color: #FFFF24;}\n",
       ".cython.score-61 {background-color: #FFFF23;}\n",
       ".cython.score-62 {background-color: #FFFF23;}\n",
       ".cython.score-63 {background-color: #FFFF22;}\n",
       ".cython.score-64 {background-color: #FFFF22;}\n",
       ".cython.score-65 {background-color: #FFFF22;}\n",
       ".cython.score-66 {background-color: #FFFF21;}\n",
       ".cython.score-67 {background-color: #FFFF21;}\n",
       ".cython.score-68 {background-color: #FFFF20;}\n",
       ".cython.score-69 {background-color: #FFFF20;}\n",
       ".cython.score-70 {background-color: #FFFF1f;}\n",
       ".cython.score-71 {background-color: #FFFF1f;}\n",
       ".cython.score-72 {background-color: #FFFF1f;}\n",
       ".cython.score-73 {background-color: #FFFF1e;}\n",
       ".cython.score-74 {background-color: #FFFF1e;}\n",
       ".cython.score-75 {background-color: #FFFF1e;}\n",
       ".cython.score-76 {background-color: #FFFF1d;}\n",
       ".cython.score-77 {background-color: #FFFF1d;}\n",
       ".cython.score-78 {background-color: #FFFF1c;}\n",
       ".cython.score-79 {background-color: #FFFF1c;}\n",
       ".cython.score-80 {background-color: #FFFF1c;}\n",
       ".cython.score-81 {background-color: #FFFF1c;}\n",
       ".cython.score-82 {background-color: #FFFF1b;}\n",
       ".cython.score-83 {background-color: #FFFF1b;}\n",
       ".cython.score-84 {background-color: #FFFF1b;}\n",
       ".cython.score-85 {background-color: #FFFF1a;}\n",
       ".cython.score-86 {background-color: #FFFF1a;}\n",
       ".cython.score-87 {background-color: #FFFF1a;}\n",
       ".cython.score-88 {background-color: #FFFF1a;}\n",
       ".cython.score-89 {background-color: #FFFF19;}\n",
       ".cython.score-90 {background-color: #FFFF19;}\n",
       ".cython.score-91 {background-color: #FFFF19;}\n",
       ".cython.score-92 {background-color: #FFFF19;}\n",
       ".cython.score-93 {background-color: #FFFF18;}\n",
       ".cython.score-94 {background-color: #FFFF18;}\n",
       ".cython.score-95 {background-color: #FFFF18;}\n",
       ".cython.score-96 {background-color: #FFFF18;}\n",
       ".cython.score-97 {background-color: #FFFF17;}\n",
       ".cython.score-98 {background-color: #FFFF17;}\n",
       ".cython.score-99 {background-color: #FFFF17;}\n",
       ".cython.score-100 {background-color: #FFFF17;}\n",
       ".cython.score-101 {background-color: #FFFF16;}\n",
       ".cython.score-102 {background-color: #FFFF16;}\n",
       ".cython.score-103 {background-color: #FFFF16;}\n",
       ".cython.score-104 {background-color: #FFFF16;}\n",
       ".cython.score-105 {background-color: #FFFF16;}\n",
       ".cython.score-106 {background-color: #FFFF15;}\n",
       ".cython.score-107 {background-color: #FFFF15;}\n",
       ".cython.score-108 {background-color: #FFFF15;}\n",
       ".cython.score-109 {background-color: #FFFF15;}\n",
       ".cython.score-110 {background-color: #FFFF15;}\n",
       ".cython.score-111 {background-color: #FFFF15;}\n",
       ".cython.score-112 {background-color: #FFFF14;}\n",
       ".cython.score-113 {background-color: #FFFF14;}\n",
       ".cython.score-114 {background-color: #FFFF14;}\n",
       ".cython.score-115 {background-color: #FFFF14;}\n",
       ".cython.score-116 {background-color: #FFFF14;}\n",
       ".cython.score-117 {background-color: #FFFF14;}\n",
       ".cython.score-118 {background-color: #FFFF13;}\n",
       ".cython.score-119 {background-color: #FFFF13;}\n",
       ".cython.score-120 {background-color: #FFFF13;}\n",
       ".cython.score-121 {background-color: #FFFF13;}\n",
       ".cython.score-122 {background-color: #FFFF13;}\n",
       ".cython.score-123 {background-color: #FFFF13;}\n",
       ".cython.score-124 {background-color: #FFFF13;}\n",
       ".cython.score-125 {background-color: #FFFF12;}\n",
       ".cython.score-126 {background-color: #FFFF12;}\n",
       ".cython.score-127 {background-color: #FFFF12;}\n",
       ".cython.score-128 {background-color: #FFFF12;}\n",
       ".cython.score-129 {background-color: #FFFF12;}\n",
       ".cython.score-130 {background-color: #FFFF12;}\n",
       ".cython.score-131 {background-color: #FFFF12;}\n",
       ".cython.score-132 {background-color: #FFFF11;}\n",
       ".cython.score-133 {background-color: #FFFF11;}\n",
       ".cython.score-134 {background-color: #FFFF11;}\n",
       ".cython.score-135 {background-color: #FFFF11;}\n",
       ".cython.score-136 {background-color: #FFFF11;}\n",
       ".cython.score-137 {background-color: #FFFF11;}\n",
       ".cython.score-138 {background-color: #FFFF11;}\n",
       ".cython.score-139 {background-color: #FFFF11;}\n",
       ".cython.score-140 {background-color: #FFFF11;}\n",
       ".cython.score-141 {background-color: #FFFF10;}\n",
       ".cython.score-142 {background-color: #FFFF10;}\n",
       ".cython.score-143 {background-color: #FFFF10;}\n",
       ".cython.score-144 {background-color: #FFFF10;}\n",
       ".cython.score-145 {background-color: #FFFF10;}\n",
       ".cython.score-146 {background-color: #FFFF10;}\n",
       ".cython.score-147 {background-color: #FFFF10;}\n",
       ".cython.score-148 {background-color: #FFFF10;}\n",
       ".cython.score-149 {background-color: #FFFF10;}\n",
       ".cython.score-150 {background-color: #FFFF0f;}\n",
       ".cython.score-151 {background-color: #FFFF0f;}\n",
       ".cython.score-152 {background-color: #FFFF0f;}\n",
       ".cython.score-153 {background-color: #FFFF0f;}\n",
       ".cython.score-154 {background-color: #FFFF0f;}\n",
       ".cython.score-155 {background-color: #FFFF0f;}\n",
       ".cython.score-156 {background-color: #FFFF0f;}\n",
       ".cython.score-157 {background-color: #FFFF0f;}\n",
       ".cython.score-158 {background-color: #FFFF0f;}\n",
       ".cython.score-159 {background-color: #FFFF0f;}\n",
       ".cython.score-160 {background-color: #FFFF0f;}\n",
       ".cython.score-161 {background-color: #FFFF0e;}\n",
       ".cython.score-162 {background-color: #FFFF0e;}\n",
       ".cython.score-163 {background-color: #FFFF0e;}\n",
       ".cython.score-164 {background-color: #FFFF0e;}\n",
       ".cython.score-165 {background-color: #FFFF0e;}\n",
       ".cython.score-166 {background-color: #FFFF0e;}\n",
       ".cython.score-167 {background-color: #FFFF0e;}\n",
       ".cython.score-168 {background-color: #FFFF0e;}\n",
       ".cython.score-169 {background-color: #FFFF0e;}\n",
       ".cython.score-170 {background-color: #FFFF0e;}\n",
       ".cython.score-171 {background-color: #FFFF0e;}\n",
       ".cython.score-172 {background-color: #FFFF0e;}\n",
       ".cython.score-173 {background-color: #FFFF0d;}\n",
       ".cython.score-174 {background-color: #FFFF0d;}\n",
       ".cython.score-175 {background-color: #FFFF0d;}\n",
       ".cython.score-176 {background-color: #FFFF0d;}\n",
       ".cython.score-177 {background-color: #FFFF0d;}\n",
       ".cython.score-178 {background-color: #FFFF0d;}\n",
       ".cython.score-179 {background-color: #FFFF0d;}\n",
       ".cython.score-180 {background-color: #FFFF0d;}\n",
       ".cython.score-181 {background-color: #FFFF0d;}\n",
       ".cython.score-182 {background-color: #FFFF0d;}\n",
       ".cython.score-183 {background-color: #FFFF0d;}\n",
       ".cython.score-184 {background-color: #FFFF0d;}\n",
       ".cython.score-185 {background-color: #FFFF0d;}\n",
       ".cython.score-186 {background-color: #FFFF0d;}\n",
       ".cython.score-187 {background-color: #FFFF0c;}\n",
       ".cython.score-188 {background-color: #FFFF0c;}\n",
       ".cython.score-189 {background-color: #FFFF0c;}\n",
       ".cython.score-190 {background-color: #FFFF0c;}\n",
       ".cython.score-191 {background-color: #FFFF0c;}\n",
       ".cython.score-192 {background-color: #FFFF0c;}\n",
       ".cython.score-193 {background-color: #FFFF0c;}\n",
       ".cython.score-194 {background-color: #FFFF0c;}\n",
       ".cython.score-195 {background-color: #FFFF0c;}\n",
       ".cython.score-196 {background-color: #FFFF0c;}\n",
       ".cython.score-197 {background-color: #FFFF0c;}\n",
       ".cython.score-198 {background-color: #FFFF0c;}\n",
       ".cython.score-199 {background-color: #FFFF0c;}\n",
       ".cython.score-200 {background-color: #FFFF0c;}\n",
       ".cython.score-201 {background-color: #FFFF0c;}\n",
       ".cython.score-202 {background-color: #FFFF0c;}\n",
       ".cython.score-203 {background-color: #FFFF0b;}\n",
       ".cython.score-204 {background-color: #FFFF0b;}\n",
       ".cython.score-205 {background-color: #FFFF0b;}\n",
       ".cython.score-206 {background-color: #FFFF0b;}\n",
       ".cython.score-207 {background-color: #FFFF0b;}\n",
       ".cython.score-208 {background-color: #FFFF0b;}\n",
       ".cython.score-209 {background-color: #FFFF0b;}\n",
       ".cython.score-210 {background-color: #FFFF0b;}\n",
       ".cython.score-211 {background-color: #FFFF0b;}\n",
       ".cython.score-212 {background-color: #FFFF0b;}\n",
       ".cython.score-213 {background-color: #FFFF0b;}\n",
       ".cython.score-214 {background-color: #FFFF0b;}\n",
       ".cython.score-215 {background-color: #FFFF0b;}\n",
       ".cython.score-216 {background-color: #FFFF0b;}\n",
       ".cython.score-217 {background-color: #FFFF0b;}\n",
       ".cython.score-218 {background-color: #FFFF0b;}\n",
       ".cython.score-219 {background-color: #FFFF0b;}\n",
       ".cython.score-220 {background-color: #FFFF0b;}\n",
       ".cython.score-221 {background-color: #FFFF0b;}\n",
       ".cython.score-222 {background-color: #FFFF0a;}\n",
       ".cython.score-223 {background-color: #FFFF0a;}\n",
       ".cython.score-224 {background-color: #FFFF0a;}\n",
       ".cython.score-225 {background-color: #FFFF0a;}\n",
       ".cython.score-226 {background-color: #FFFF0a;}\n",
       ".cython.score-227 {background-color: #FFFF0a;}\n",
       ".cython.score-228 {background-color: #FFFF0a;}\n",
       ".cython.score-229 {background-color: #FFFF0a;}\n",
       ".cython.score-230 {background-color: #FFFF0a;}\n",
       ".cython.score-231 {background-color: #FFFF0a;}\n",
       ".cython.score-232 {background-color: #FFFF0a;}\n",
       ".cython.score-233 {background-color: #FFFF0a;}\n",
       ".cython.score-234 {background-color: #FFFF0a;}\n",
       ".cython.score-235 {background-color: #FFFF0a;}\n",
       ".cython.score-236 {background-color: #FFFF0a;}\n",
       ".cython.score-237 {background-color: #FFFF0a;}\n",
       ".cython.score-238 {background-color: #FFFF0a;}\n",
       ".cython.score-239 {background-color: #FFFF0a;}\n",
       ".cython.score-240 {background-color: #FFFF0a;}\n",
       ".cython.score-241 {background-color: #FFFF0a;}\n",
       ".cython.score-242 {background-color: #FFFF0a;}\n",
       ".cython.score-243 {background-color: #FFFF0a;}\n",
       ".cython.score-244 {background-color: #FFFF0a;}\n",
       ".cython.score-245 {background-color: #FFFF0a;}\n",
       ".cython.score-246 {background-color: #FFFF09;}\n",
       ".cython.score-247 {background-color: #FFFF09;}\n",
       ".cython.score-248 {background-color: #FFFF09;}\n",
       ".cython.score-249 {background-color: #FFFF09;}\n",
       ".cython.score-250 {background-color: #FFFF09;}\n",
       ".cython.score-251 {background-color: #FFFF09;}\n",
       ".cython.score-252 {background-color: #FFFF09;}\n",
       ".cython.score-253 {background-color: #FFFF09;}\n",
       ".cython.score-254 {background-color: #FFFF09;}\n",
       "pre { line-height: 125%; }\n",
       "td.linenos .normal { color: inherit; background-color: transparent; padding-left: 5px; padding-right: 5px; }\n",
       "span.linenos { color: inherit; background-color: transparent; padding-left: 5px; padding-right: 5px; }\n",
       "td.linenos .special { color: #000000; background-color: #ffffc0; padding-left: 5px; padding-right: 5px; }\n",
       "span.linenos.special { color: #000000; background-color: #ffffc0; padding-left: 5px; padding-right: 5px; }\n",
       ".cython .hll { background-color: #ffffcc }\n",
       ".cython { background: #f8f8f8; }\n",
       ".cython .c { color: #408080; font-style: italic } /* Comment */\n",
       ".cython .err { border: 1px solid #FF0000 } /* Error */\n",
       ".cython .k { color: #008000; font-weight: bold } /* Keyword */\n",
       ".cython .o { color: #666666 } /* Operator */\n",
       ".cython .ch { color: #408080; font-style: italic } /* Comment.Hashbang */\n",
       ".cython .cm { color: #408080; font-style: italic } /* Comment.Multiline */\n",
       ".cython .cp { color: #BC7A00 } /* Comment.Preproc */\n",
       ".cython .cpf { color: #408080; font-style: italic } /* Comment.PreprocFile */\n",
       ".cython .c1 { color: #408080; font-style: italic } /* Comment.Single */\n",
       ".cython .cs { color: #408080; font-style: italic } /* Comment.Special */\n",
       ".cython .gd { color: #A00000 } /* Generic.Deleted */\n",
       ".cython .ge { font-style: italic } /* Generic.Emph */\n",
       ".cython .gr { color: #FF0000 } /* Generic.Error */\n",
       ".cython .gh { color: #000080; font-weight: bold } /* Generic.Heading */\n",
       ".cython .gi { color: #00A000 } /* Generic.Inserted */\n",
       ".cython .go { color: #888888 } /* Generic.Output */\n",
       ".cython .gp { color: #000080; font-weight: bold } /* Generic.Prompt */\n",
       ".cython .gs { font-weight: bold } /* Generic.Strong */\n",
       ".cython .gu { color: #800080; font-weight: bold } /* Generic.Subheading */\n",
       ".cython .gt { color: #0044DD } /* Generic.Traceback */\n",
       ".cython .kc { color: #008000; font-weight: bold } /* Keyword.Constant */\n",
       ".cython .kd { color: #008000; font-weight: bold } /* Keyword.Declaration */\n",
       ".cython .kn { color: #008000; font-weight: bold } /* Keyword.Namespace */\n",
       ".cython .kp { color: #008000 } /* Keyword.Pseudo */\n",
       ".cython .kr { color: #008000; font-weight: bold } /* Keyword.Reserved */\n",
       ".cython .kt { color: #B00040 } /* Keyword.Type */\n",
       ".cython .m { color: #666666 } /* Literal.Number */\n",
       ".cython .s { color: #BA2121 } /* Literal.String */\n",
       ".cython .na { color: #7D9029 } /* Name.Attribute */\n",
       ".cython .nb { color: #008000 } /* Name.Builtin */\n",
       ".cython .nc { color: #0000FF; font-weight: bold } /* Name.Class */\n",
       ".cython .no { color: #880000 } /* Name.Constant */\n",
       ".cython .nd { color: #AA22FF } /* Name.Decorator */\n",
       ".cython .ni { color: #999999; font-weight: bold } /* Name.Entity */\n",
       ".cython .ne { color: #D2413A; font-weight: bold } /* Name.Exception */\n",
       ".cython .nf { color: #0000FF } /* Name.Function */\n",
       ".cython .nl { color: #A0A000 } /* Name.Label */\n",
       ".cython .nn { color: #0000FF; font-weight: bold } /* Name.Namespace */\n",
       ".cython .nt { color: #008000; font-weight: bold } /* Name.Tag */\n",
       ".cython .nv { color: #19177C } /* Name.Variable */\n",
       ".cython .ow { color: #AA22FF; font-weight: bold } /* Operator.Word */\n",
       ".cython .w { color: #bbbbbb } /* Text.Whitespace */\n",
       ".cython .mb { color: #666666 } /* Literal.Number.Bin */\n",
       ".cython .mf { color: #666666 } /* Literal.Number.Float */\n",
       ".cython .mh { color: #666666 } /* Literal.Number.Hex */\n",
       ".cython .mi { color: #666666 } /* Literal.Number.Integer */\n",
       ".cython .mo { color: #666666 } /* Literal.Number.Oct */\n",
       ".cython .sa { color: #BA2121 } /* Literal.String.Affix */\n",
       ".cython .sb { color: #BA2121 } /* Literal.String.Backtick */\n",
       ".cython .sc { color: #BA2121 } /* Literal.String.Char */\n",
       ".cython .dl { color: #BA2121 } /* Literal.String.Delimiter */\n",
       ".cython .sd { color: #BA2121; font-style: italic } /* Literal.String.Doc */\n",
       ".cython .s2 { color: #BA2121 } /* Literal.String.Double */\n",
       ".cython .se { color: #BB6622; font-weight: bold } /* Literal.String.Escape */\n",
       ".cython .sh { color: #BA2121 } /* Literal.String.Heredoc */\n",
       ".cython .si { color: #BB6688; font-weight: bold } /* Literal.String.Interpol */\n",
       ".cython .sx { color: #008000 } /* Literal.String.Other */\n",
       ".cython .sr { color: #BB6688 } /* Literal.String.Regex */\n",
       ".cython .s1 { color: #BA2121 } /* Literal.String.Single */\n",
       ".cython .ss { color: #19177C } /* Literal.String.Symbol */\n",
       ".cython .bp { color: #008000 } /* Name.Builtin.Pseudo */\n",
       ".cython .fm { color: #0000FF } /* Name.Function.Magic */\n",
       ".cython .vc { color: #19177C } /* Name.Variable.Class */\n",
       ".cython .vg { color: #19177C } /* Name.Variable.Global */\n",
       ".cython .vi { color: #19177C } /* Name.Variable.Instance */\n",
       ".cython .vm { color: #19177C } /* Name.Variable.Magic */\n",
       ".cython .il { color: #666666 } /* Literal.Number.Integer.Long */\n",
       "    </style>\n",
       "    <script>\n",
       "    function toggleDiv(id) {\n",
       "        theDiv = id.nextElementSibling\n",
       "        if (theDiv.style.display != 'block') theDiv.style.display = 'block';\n",
       "        else theDiv.style.display = 'none';\n",
       "    }\n",
       "    </script>\n",
       "</head>\n",
       "<body class=\"cython\">\n",
       "<p><span style=\"border-bottom: solid 1px grey;\">Generated by Cython 0.26.1</span></p>\n",
       "<p>\n",
       "    <span style=\"background-color: #FFFF00\">Yellow lines</span> hint at Python interaction.<br />\n",
       "    Click on a line that starts with a \"<code>+</code>\" to see the C code that Cython generated for it.\n",
       "</p>\n",
       "<div class=\"cython\"><pre class=\"cython line score-0\">&#xA0;<span class=\"\">01</span>: </pre>\n",
       "<pre class=\"cython line score-19\" onclick='toggleDiv(this)'>+<span class=\"\">02</span>: <span class=\"k\">import</span> <span class=\"nn\">numpy</span> <span class=\"k\">as</span> <span class=\"nn\">np</span></pre>\n",
       "<pre class='cython code score-19 '>  __pyx_t_1 = <span class='pyx_c_api'>__Pyx_Import</span>(__pyx_n_s_numpy, 0, 0);<span class='error_goto'> if (unlikely(!__pyx_t_1)) __PYX_ERR(0, 2, __pyx_L1_error)</span>\n",
       "  <span class='refnanny'>__Pyx_GOTREF</span>(__pyx_t_1);\n",
       "  if (<span class='py_c_api'>PyDict_SetItem</span>(__pyx_d, __pyx_n_s_np, __pyx_t_1) &lt; 0) <span class='error_goto'>__PYX_ERR(0, 2, __pyx_L1_error)</span>\n",
       "  <span class='pyx_macro_api'>__Pyx_DECREF</span>(__pyx_t_1); __pyx_t_1 = 0;\n",
       "/* … */\n",
       "  __pyx_t_2 = <span class='py_c_api'>PyDict_New</span>();<span class='error_goto'> if (unlikely(!__pyx_t_2)) __PYX_ERR(0, 2, __pyx_L1_error)</span>\n",
       "  <span class='refnanny'>__Pyx_GOTREF</span>(__pyx_t_2);\n",
       "  if (<span class='py_c_api'>PyDict_SetItem</span>(__pyx_d, __pyx_n_s_test, __pyx_t_2) &lt; 0) <span class='error_goto'>__PYX_ERR(0, 2, __pyx_L1_error)</span>\n",
       "  <span class='pyx_macro_api'>__Pyx_DECREF</span>(__pyx_t_2); __pyx_t_2 = 0;\n",
       "</pre><pre class=\"cython line score-19\" onclick='toggleDiv(this)'>+<span class=\"\">03</span>: <span class=\"k\">from</span> <span class=\"nn\">timeit</span> <span class=\"k\">import</span> <span class=\"n\">default_timer</span> <span class=\"k\">as</span> <span class=\"n\">timer</span></pre>\n",
       "<pre class='cython code score-19 '>  __pyx_t_1 = <span class='py_c_api'>PyList_New</span>(1);<span class='error_goto'> if (unlikely(!__pyx_t_1)) __PYX_ERR(0, 3, __pyx_L1_error)</span>\n",
       "  <span class='refnanny'>__Pyx_GOTREF</span>(__pyx_t_1);\n",
       "  <span class='pyx_macro_api'>__Pyx_INCREF</span>(__pyx_n_s_default_timer);\n",
       "  <span class='refnanny'>__Pyx_GIVEREF</span>(__pyx_n_s_default_timer);\n",
       "  <span class='py_macro_api'>PyList_SET_ITEM</span>(__pyx_t_1, 0, __pyx_n_s_default_timer);\n",
       "  __pyx_t_2 = <span class='pyx_c_api'>__Pyx_Import</span>(__pyx_n_s_timeit, __pyx_t_1, 0);<span class='error_goto'> if (unlikely(!__pyx_t_2)) __PYX_ERR(0, 3, __pyx_L1_error)</span>\n",
       "  <span class='refnanny'>__Pyx_GOTREF</span>(__pyx_t_2);\n",
       "  <span class='pyx_macro_api'>__Pyx_DECREF</span>(__pyx_t_1); __pyx_t_1 = 0;\n",
       "  __pyx_t_1 = <span class='pyx_c_api'>__Pyx_ImportFrom</span>(__pyx_t_2, __pyx_n_s_default_timer);<span class='error_goto'> if (unlikely(!__pyx_t_1)) __PYX_ERR(0, 3, __pyx_L1_error)</span>\n",
       "  <span class='refnanny'>__Pyx_GOTREF</span>(__pyx_t_1);\n",
       "  if (<span class='py_c_api'>PyDict_SetItem</span>(__pyx_d, __pyx_n_s_timer, __pyx_t_1) &lt; 0) <span class='error_goto'>__PYX_ERR(0, 3, __pyx_L1_error)</span>\n",
       "  <span class='pyx_macro_api'>__Pyx_DECREF</span>(__pyx_t_1); __pyx_t_1 = 0;\n",
       "  <span class='pyx_macro_api'>__Pyx_DECREF</span>(__pyx_t_2); __pyx_t_2 = 0;\n",
       "</pre><pre class=\"cython line score-0\">&#xA0;<span class=\"\">04</span>: </pre>\n",
       "<pre class=\"cython line score-0\" onclick='toggleDiv(this)'>+<span class=\"\">05</span>: <span class=\"k\">cdef</span> <span class=\"kt\">int</span> <span class=\"nf\">N</span> <span class=\"o\">=</span> <span class=\"mf\">300</span></pre>\n",
       "<pre class='cython code score-0 '>  __pyx_v_46_cython_magic_4fc12254f700455e2addb6dd526615d2_N = 0x12C;\n",
       "</pre><pre class=\"cython line score-0\">&#xA0;<span class=\"\">06</span>: <span class=\"k\">cdef</span> <span class=\"kt\">int</span> <span class=\"nf\">i</span><span class=\"p\">,</span><span class=\"nf\">j</span><span class=\"p\">,</span><span class=\"nf\">k</span></pre>\n",
       "<pre class=\"cython line score-0\">&#xA0;<span class=\"\">07</span>: <span class=\"k\">cdef</span> <span class=\"kt\">double</span> [<span class=\"p\">:,:]</span> <span class=\"n\">A</span><span class=\"p\">,</span><span class=\"n\">B</span><span class=\"p\">,</span><span class=\"n\">C</span></pre>\n",
       "<pre class=\"cython line score-0\">&#xA0;<span class=\"\">08</span>: </pre>\n",
       "<pre class=\"cython line score-54\" onclick='toggleDiv(this)'>+<span class=\"\">09</span>: <span class=\"n\">A</span> <span class=\"o\">=</span> <span class=\"n\">np</span><span class=\"o\">.</span><span class=\"n\">random</span><span class=\"o\">.</span><span class=\"n\">rand</span><span class=\"p\">(</span><span class=\"n\">N</span><span class=\"p\">,</span><span class=\"n\">N</span><span class=\"p\">)</span></pre>\n",
       "<pre class='cython code score-54 '>  __pyx_t_1 = <span class='pyx_c_api'>__Pyx_GetModuleGlobalName</span>(__pyx_n_s_np);<span class='error_goto'> if (unlikely(!__pyx_t_1)) __PYX_ERR(0, 9, __pyx_L1_error)</span>\n",
       "  <span class='refnanny'>__Pyx_GOTREF</span>(__pyx_t_1);\n",
       "  __pyx_t_3 = <span class='pyx_c_api'>__Pyx_PyObject_GetAttrStr</span>(__pyx_t_1, __pyx_n_s_random);<span class='error_goto'> if (unlikely(!__pyx_t_3)) __PYX_ERR(0, 9, __pyx_L1_error)</span>\n",
       "  <span class='refnanny'>__Pyx_GOTREF</span>(__pyx_t_3);\n",
       "  <span class='pyx_macro_api'>__Pyx_DECREF</span>(__pyx_t_1); __pyx_t_1 = 0;\n",
       "  __pyx_t_1 = <span class='pyx_c_api'>__Pyx_PyObject_GetAttrStr</span>(__pyx_t_3, __pyx_n_s_rand);<span class='error_goto'> if (unlikely(!__pyx_t_1)) __PYX_ERR(0, 9, __pyx_L1_error)</span>\n",
       "  <span class='refnanny'>__Pyx_GOTREF</span>(__pyx_t_1);\n",
       "  <span class='pyx_macro_api'>__Pyx_DECREF</span>(__pyx_t_3); __pyx_t_3 = 0;\n",
       "  __pyx_t_3 = <span class='pyx_c_api'>__Pyx_PyInt_From_int</span>(__pyx_v_46_cython_magic_4fc12254f700455e2addb6dd526615d2_N);<span class='error_goto'> if (unlikely(!__pyx_t_3)) __PYX_ERR(0, 9, __pyx_L1_error)</span>\n",
       "  <span class='refnanny'>__Pyx_GOTREF</span>(__pyx_t_3);\n",
       "  __pyx_t_4 = <span class='pyx_c_api'>__Pyx_PyInt_From_int</span>(__pyx_v_46_cython_magic_4fc12254f700455e2addb6dd526615d2_N);<span class='error_goto'> if (unlikely(!__pyx_t_4)) __PYX_ERR(0, 9, __pyx_L1_error)</span>\n",
       "  <span class='refnanny'>__Pyx_GOTREF</span>(__pyx_t_4);\n",
       "  __pyx_t_5 = NULL;\n",
       "  __pyx_t_6 = 0;\n",
       "  if (CYTHON_UNPACK_METHODS &amp;&amp; likely(<span class='py_c_api'>PyMethod_Check</span>(__pyx_t_1))) {\n",
       "    __pyx_t_5 = <span class='py_macro_api'>PyMethod_GET_SELF</span>(__pyx_t_1);\n",
       "    if (likely(__pyx_t_5)) {\n",
       "      PyObject* function = <span class='py_macro_api'>PyMethod_GET_FUNCTION</span>(__pyx_t_1);\n",
       "      <span class='pyx_macro_api'>__Pyx_INCREF</span>(__pyx_t_5);\n",
       "      <span class='pyx_macro_api'>__Pyx_INCREF</span>(function);\n",
       "      <span class='pyx_macro_api'>__Pyx_DECREF_SET</span>(__pyx_t_1, function);\n",
       "      __pyx_t_6 = 1;\n",
       "    }\n",
       "  }\n",
       "  #if CYTHON_FAST_PYCALL\n",
       "  if (<span class='py_c_api'>PyFunction_Check</span>(__pyx_t_1)) {\n",
       "    PyObject *__pyx_temp[3] = {__pyx_t_5, __pyx_t_3, __pyx_t_4};\n",
       "    __pyx_t_2 = <span class='pyx_c_api'>__Pyx_PyFunction_FastCall</span>(__pyx_t_1, __pyx_temp+1-__pyx_t_6, 2+__pyx_t_6);<span class='error_goto'> if (unlikely(!__pyx_t_2)) __PYX_ERR(0, 9, __pyx_L1_error)</span>\n",
       "    <span class='pyx_macro_api'>__Pyx_XDECREF</span>(__pyx_t_5); __pyx_t_5 = 0;\n",
       "    <span class='refnanny'>__Pyx_GOTREF</span>(__pyx_t_2);\n",
       "    <span class='pyx_macro_api'>__Pyx_DECREF</span>(__pyx_t_3); __pyx_t_3 = 0;\n",
       "    <span class='pyx_macro_api'>__Pyx_DECREF</span>(__pyx_t_4); __pyx_t_4 = 0;\n",
       "  } else\n",
       "  #endif\n",
       "  #if CYTHON_FAST_PYCCALL\n",
       "  if (<span class='pyx_c_api'>__Pyx_PyFastCFunction_Check</span>(__pyx_t_1)) {\n",
       "    PyObject *__pyx_temp[3] = {__pyx_t_5, __pyx_t_3, __pyx_t_4};\n",
       "    __pyx_t_2 = <span class='pyx_c_api'>__Pyx_PyCFunction_FastCall</span>(__pyx_t_1, __pyx_temp+1-__pyx_t_6, 2+__pyx_t_6);<span class='error_goto'> if (unlikely(!__pyx_t_2)) __PYX_ERR(0, 9, __pyx_L1_error)</span>\n",
       "    <span class='pyx_macro_api'>__Pyx_XDECREF</span>(__pyx_t_5); __pyx_t_5 = 0;\n",
       "    <span class='refnanny'>__Pyx_GOTREF</span>(__pyx_t_2);\n",
       "    <span class='pyx_macro_api'>__Pyx_DECREF</span>(__pyx_t_3); __pyx_t_3 = 0;\n",
       "    <span class='pyx_macro_api'>__Pyx_DECREF</span>(__pyx_t_4); __pyx_t_4 = 0;\n",
       "  } else\n",
       "  #endif\n",
       "  {\n",
       "    __pyx_t_7 = <span class='py_c_api'>PyTuple_New</span>(2+__pyx_t_6);<span class='error_goto'> if (unlikely(!__pyx_t_7)) __PYX_ERR(0, 9, __pyx_L1_error)</span>\n",
       "    <span class='refnanny'>__Pyx_GOTREF</span>(__pyx_t_7);\n",
       "    if (__pyx_t_5) {\n",
       "      <span class='refnanny'>__Pyx_GIVEREF</span>(__pyx_t_5); <span class='py_macro_api'>PyTuple_SET_ITEM</span>(__pyx_t_7, 0, __pyx_t_5); __pyx_t_5 = NULL;\n",
       "    }\n",
       "    <span class='refnanny'>__Pyx_GIVEREF</span>(__pyx_t_3);\n",
       "    <span class='py_macro_api'>PyTuple_SET_ITEM</span>(__pyx_t_7, 0+__pyx_t_6, __pyx_t_3);\n",
       "    <span class='refnanny'>__Pyx_GIVEREF</span>(__pyx_t_4);\n",
       "    <span class='py_macro_api'>PyTuple_SET_ITEM</span>(__pyx_t_7, 1+__pyx_t_6, __pyx_t_4);\n",
       "    __pyx_t_3 = 0;\n",
       "    __pyx_t_4 = 0;\n",
       "    __pyx_t_2 = <span class='pyx_c_api'>__Pyx_PyObject_Call</span>(__pyx_t_1, __pyx_t_7, NULL);<span class='error_goto'> if (unlikely(!__pyx_t_2)) __PYX_ERR(0, 9, __pyx_L1_error)</span>\n",
       "    <span class='refnanny'>__Pyx_GOTREF</span>(__pyx_t_2);\n",
       "    <span class='pyx_macro_api'>__Pyx_DECREF</span>(__pyx_t_7); __pyx_t_7 = 0;\n",
       "  }\n",
       "  <span class='pyx_macro_api'>__Pyx_DECREF</span>(__pyx_t_1); __pyx_t_1 = 0;\n",
       "  __pyx_t_8 = <span class='pyx_c_api'>__Pyx_PyObject_to_MemoryviewSlice_dsds_double</span>(__pyx_t_2);\n",
       "  if (unlikely(!__pyx_t_8.memview)) <span class='error_goto'>__PYX_ERR(0, 9, __pyx_L1_error)</span>\n",
       "  <span class='pyx_macro_api'>__Pyx_DECREF</span>(__pyx_t_2); __pyx_t_2 = 0;\n",
       "  __PYX_XDEC_MEMVIEW(&amp;__pyx_v_46_cython_magic_4fc12254f700455e2addb6dd526615d2_A, 1);\n",
       "  __pyx_v_46_cython_magic_4fc12254f700455e2addb6dd526615d2_A = __pyx_t_8;\n",
       "  __pyx_t_8.memview = NULL;\n",
       "  __pyx_t_8.data = NULL;\n",
       "</pre><pre class=\"cython line score-54\" onclick='toggleDiv(this)'>+<span class=\"\">10</span>: <span class=\"n\">B</span> <span class=\"o\">=</span> <span class=\"n\">np</span><span class=\"o\">.</span><span class=\"n\">random</span><span class=\"o\">.</span><span class=\"n\">rand</span><span class=\"p\">(</span><span class=\"n\">N</span><span class=\"p\">,</span><span class=\"n\">N</span><span class=\"p\">)</span></pre>\n",
       "<pre class='cython code score-54 '>  __pyx_t_1 = <span class='pyx_c_api'>__Pyx_GetModuleGlobalName</span>(__pyx_n_s_np);<span class='error_goto'> if (unlikely(!__pyx_t_1)) __PYX_ERR(0, 10, __pyx_L1_error)</span>\n",
       "  <span class='refnanny'>__Pyx_GOTREF</span>(__pyx_t_1);\n",
       "  __pyx_t_7 = <span class='pyx_c_api'>__Pyx_PyObject_GetAttrStr</span>(__pyx_t_1, __pyx_n_s_random);<span class='error_goto'> if (unlikely(!__pyx_t_7)) __PYX_ERR(0, 10, __pyx_L1_error)</span>\n",
       "  <span class='refnanny'>__Pyx_GOTREF</span>(__pyx_t_7);\n",
       "  <span class='pyx_macro_api'>__Pyx_DECREF</span>(__pyx_t_1); __pyx_t_1 = 0;\n",
       "  __pyx_t_1 = <span class='pyx_c_api'>__Pyx_PyObject_GetAttrStr</span>(__pyx_t_7, __pyx_n_s_rand);<span class='error_goto'> if (unlikely(!__pyx_t_1)) __PYX_ERR(0, 10, __pyx_L1_error)</span>\n",
       "  <span class='refnanny'>__Pyx_GOTREF</span>(__pyx_t_1);\n",
       "  <span class='pyx_macro_api'>__Pyx_DECREF</span>(__pyx_t_7); __pyx_t_7 = 0;\n",
       "  __pyx_t_7 = <span class='pyx_c_api'>__Pyx_PyInt_From_int</span>(__pyx_v_46_cython_magic_4fc12254f700455e2addb6dd526615d2_N);<span class='error_goto'> if (unlikely(!__pyx_t_7)) __PYX_ERR(0, 10, __pyx_L1_error)</span>\n",
       "  <span class='refnanny'>__Pyx_GOTREF</span>(__pyx_t_7);\n",
       "  __pyx_t_4 = <span class='pyx_c_api'>__Pyx_PyInt_From_int</span>(__pyx_v_46_cython_magic_4fc12254f700455e2addb6dd526615d2_N);<span class='error_goto'> if (unlikely(!__pyx_t_4)) __PYX_ERR(0, 10, __pyx_L1_error)</span>\n",
       "  <span class='refnanny'>__Pyx_GOTREF</span>(__pyx_t_4);\n",
       "  __pyx_t_3 = NULL;\n",
       "  __pyx_t_6 = 0;\n",
       "  if (CYTHON_UNPACK_METHODS &amp;&amp; likely(<span class='py_c_api'>PyMethod_Check</span>(__pyx_t_1))) {\n",
       "    __pyx_t_3 = <span class='py_macro_api'>PyMethod_GET_SELF</span>(__pyx_t_1);\n",
       "    if (likely(__pyx_t_3)) {\n",
       "      PyObject* function = <span class='py_macro_api'>PyMethod_GET_FUNCTION</span>(__pyx_t_1);\n",
       "      <span class='pyx_macro_api'>__Pyx_INCREF</span>(__pyx_t_3);\n",
       "      <span class='pyx_macro_api'>__Pyx_INCREF</span>(function);\n",
       "      <span class='pyx_macro_api'>__Pyx_DECREF_SET</span>(__pyx_t_1, function);\n",
       "      __pyx_t_6 = 1;\n",
       "    }\n",
       "  }\n",
       "  #if CYTHON_FAST_PYCALL\n",
       "  if (<span class='py_c_api'>PyFunction_Check</span>(__pyx_t_1)) {\n",
       "    PyObject *__pyx_temp[3] = {__pyx_t_3, __pyx_t_7, __pyx_t_4};\n",
       "    __pyx_t_2 = <span class='pyx_c_api'>__Pyx_PyFunction_FastCall</span>(__pyx_t_1, __pyx_temp+1-__pyx_t_6, 2+__pyx_t_6);<span class='error_goto'> if (unlikely(!__pyx_t_2)) __PYX_ERR(0, 10, __pyx_L1_error)</span>\n",
       "    <span class='pyx_macro_api'>__Pyx_XDECREF</span>(__pyx_t_3); __pyx_t_3 = 0;\n",
       "    <span class='refnanny'>__Pyx_GOTREF</span>(__pyx_t_2);\n",
       "    <span class='pyx_macro_api'>__Pyx_DECREF</span>(__pyx_t_7); __pyx_t_7 = 0;\n",
       "    <span class='pyx_macro_api'>__Pyx_DECREF</span>(__pyx_t_4); __pyx_t_4 = 0;\n",
       "  } else\n",
       "  #endif\n",
       "  #if CYTHON_FAST_PYCCALL\n",
       "  if (<span class='pyx_c_api'>__Pyx_PyFastCFunction_Check</span>(__pyx_t_1)) {\n",
       "    PyObject *__pyx_temp[3] = {__pyx_t_3, __pyx_t_7, __pyx_t_4};\n",
       "    __pyx_t_2 = <span class='pyx_c_api'>__Pyx_PyCFunction_FastCall</span>(__pyx_t_1, __pyx_temp+1-__pyx_t_6, 2+__pyx_t_6);<span class='error_goto'> if (unlikely(!__pyx_t_2)) __PYX_ERR(0, 10, __pyx_L1_error)</span>\n",
       "    <span class='pyx_macro_api'>__Pyx_XDECREF</span>(__pyx_t_3); __pyx_t_3 = 0;\n",
       "    <span class='refnanny'>__Pyx_GOTREF</span>(__pyx_t_2);\n",
       "    <span class='pyx_macro_api'>__Pyx_DECREF</span>(__pyx_t_7); __pyx_t_7 = 0;\n",
       "    <span class='pyx_macro_api'>__Pyx_DECREF</span>(__pyx_t_4); __pyx_t_4 = 0;\n",
       "  } else\n",
       "  #endif\n",
       "  {\n",
       "    __pyx_t_5 = <span class='py_c_api'>PyTuple_New</span>(2+__pyx_t_6);<span class='error_goto'> if (unlikely(!__pyx_t_5)) __PYX_ERR(0, 10, __pyx_L1_error)</span>\n",
       "    <span class='refnanny'>__Pyx_GOTREF</span>(__pyx_t_5);\n",
       "    if (__pyx_t_3) {\n",
       "      <span class='refnanny'>__Pyx_GIVEREF</span>(__pyx_t_3); <span class='py_macro_api'>PyTuple_SET_ITEM</span>(__pyx_t_5, 0, __pyx_t_3); __pyx_t_3 = NULL;\n",
       "    }\n",
       "    <span class='refnanny'>__Pyx_GIVEREF</span>(__pyx_t_7);\n",
       "    <span class='py_macro_api'>PyTuple_SET_ITEM</span>(__pyx_t_5, 0+__pyx_t_6, __pyx_t_7);\n",
       "    <span class='refnanny'>__Pyx_GIVEREF</span>(__pyx_t_4);\n",
       "    <span class='py_macro_api'>PyTuple_SET_ITEM</span>(__pyx_t_5, 1+__pyx_t_6, __pyx_t_4);\n",
       "    __pyx_t_7 = 0;\n",
       "    __pyx_t_4 = 0;\n",
       "    __pyx_t_2 = <span class='pyx_c_api'>__Pyx_PyObject_Call</span>(__pyx_t_1, __pyx_t_5, NULL);<span class='error_goto'> if (unlikely(!__pyx_t_2)) __PYX_ERR(0, 10, __pyx_L1_error)</span>\n",
       "    <span class='refnanny'>__Pyx_GOTREF</span>(__pyx_t_2);\n",
       "    <span class='pyx_macro_api'>__Pyx_DECREF</span>(__pyx_t_5); __pyx_t_5 = 0;\n",
       "  }\n",
       "  <span class='pyx_macro_api'>__Pyx_DECREF</span>(__pyx_t_1); __pyx_t_1 = 0;\n",
       "  __pyx_t_8 = <span class='pyx_c_api'>__Pyx_PyObject_to_MemoryviewSlice_dsds_double</span>(__pyx_t_2);\n",
       "  if (unlikely(!__pyx_t_8.memview)) <span class='error_goto'>__PYX_ERR(0, 10, __pyx_L1_error)</span>\n",
       "  <span class='pyx_macro_api'>__Pyx_DECREF</span>(__pyx_t_2); __pyx_t_2 = 0;\n",
       "  __PYX_XDEC_MEMVIEW(&amp;__pyx_v_46_cython_magic_4fc12254f700455e2addb6dd526615d2_B, 1);\n",
       "  __pyx_v_46_cython_magic_4fc12254f700455e2addb6dd526615d2_B = __pyx_t_8;\n",
       "  __pyx_t_8.memview = NULL;\n",
       "  __pyx_t_8.data = NULL;\n",
       "</pre><pre class=\"cython line score-58\" onclick='toggleDiv(this)'>+<span class=\"\">11</span>: <span class=\"n\">C</span> <span class=\"o\">=</span> <span class=\"n\">np</span><span class=\"o\">.</span><span class=\"n\">zeros</span><span class=\"p\">((</span><span class=\"n\">N</span><span class=\"p\">,</span><span class=\"n\">N</span><span class=\"p\">))</span></pre>\n",
       "<pre class='cython code score-58 '>  __pyx_t_1 = <span class='pyx_c_api'>__Pyx_GetModuleGlobalName</span>(__pyx_n_s_np);<span class='error_goto'> if (unlikely(!__pyx_t_1)) __PYX_ERR(0, 11, __pyx_L1_error)</span>\n",
       "  <span class='refnanny'>__Pyx_GOTREF</span>(__pyx_t_1);\n",
       "  __pyx_t_5 = <span class='pyx_c_api'>__Pyx_PyObject_GetAttrStr</span>(__pyx_t_1, __pyx_n_s_zeros);<span class='error_goto'> if (unlikely(!__pyx_t_5)) __PYX_ERR(0, 11, __pyx_L1_error)</span>\n",
       "  <span class='refnanny'>__Pyx_GOTREF</span>(__pyx_t_5);\n",
       "  <span class='pyx_macro_api'>__Pyx_DECREF</span>(__pyx_t_1); __pyx_t_1 = 0;\n",
       "  __pyx_t_1 = <span class='pyx_c_api'>__Pyx_PyInt_From_int</span>(__pyx_v_46_cython_magic_4fc12254f700455e2addb6dd526615d2_N);<span class='error_goto'> if (unlikely(!__pyx_t_1)) __PYX_ERR(0, 11, __pyx_L1_error)</span>\n",
       "  <span class='refnanny'>__Pyx_GOTREF</span>(__pyx_t_1);\n",
       "  __pyx_t_4 = <span class='pyx_c_api'>__Pyx_PyInt_From_int</span>(__pyx_v_46_cython_magic_4fc12254f700455e2addb6dd526615d2_N);<span class='error_goto'> if (unlikely(!__pyx_t_4)) __PYX_ERR(0, 11, __pyx_L1_error)</span>\n",
       "  <span class='refnanny'>__Pyx_GOTREF</span>(__pyx_t_4);\n",
       "  __pyx_t_7 = <span class='py_c_api'>PyTuple_New</span>(2);<span class='error_goto'> if (unlikely(!__pyx_t_7)) __PYX_ERR(0, 11, __pyx_L1_error)</span>\n",
       "  <span class='refnanny'>__Pyx_GOTREF</span>(__pyx_t_7);\n",
       "  <span class='refnanny'>__Pyx_GIVEREF</span>(__pyx_t_1);\n",
       "  <span class='py_macro_api'>PyTuple_SET_ITEM</span>(__pyx_t_7, 0, __pyx_t_1);\n",
       "  <span class='refnanny'>__Pyx_GIVEREF</span>(__pyx_t_4);\n",
       "  <span class='py_macro_api'>PyTuple_SET_ITEM</span>(__pyx_t_7, 1, __pyx_t_4);\n",
       "  __pyx_t_1 = 0;\n",
       "  __pyx_t_4 = 0;\n",
       "  __pyx_t_4 = NULL;\n",
       "  if (CYTHON_UNPACK_METHODS &amp;&amp; unlikely(<span class='py_c_api'>PyMethod_Check</span>(__pyx_t_5))) {\n",
       "    __pyx_t_4 = <span class='py_macro_api'>PyMethod_GET_SELF</span>(__pyx_t_5);\n",
       "    if (likely(__pyx_t_4)) {\n",
       "      PyObject* function = <span class='py_macro_api'>PyMethod_GET_FUNCTION</span>(__pyx_t_5);\n",
       "      <span class='pyx_macro_api'>__Pyx_INCREF</span>(__pyx_t_4);\n",
       "      <span class='pyx_macro_api'>__Pyx_INCREF</span>(function);\n",
       "      <span class='pyx_macro_api'>__Pyx_DECREF_SET</span>(__pyx_t_5, function);\n",
       "    }\n",
       "  }\n",
       "  if (!__pyx_t_4) {\n",
       "    __pyx_t_2 = <span class='pyx_c_api'>__Pyx_PyObject_CallOneArg</span>(__pyx_t_5, __pyx_t_7);<span class='error_goto'> if (unlikely(!__pyx_t_2)) __PYX_ERR(0, 11, __pyx_L1_error)</span>\n",
       "    <span class='pyx_macro_api'>__Pyx_DECREF</span>(__pyx_t_7); __pyx_t_7 = 0;\n",
       "    <span class='refnanny'>__Pyx_GOTREF</span>(__pyx_t_2);\n",
       "  } else {\n",
       "    #if CYTHON_FAST_PYCALL\n",
       "    if (<span class='py_c_api'>PyFunction_Check</span>(__pyx_t_5)) {\n",
       "      PyObject *__pyx_temp[2] = {__pyx_t_4, __pyx_t_7};\n",
       "      __pyx_t_2 = <span class='pyx_c_api'>__Pyx_PyFunction_FastCall</span>(__pyx_t_5, __pyx_temp+1-1, 1+1);<span class='error_goto'> if (unlikely(!__pyx_t_2)) __PYX_ERR(0, 11, __pyx_L1_error)</span>\n",
       "      <span class='pyx_macro_api'>__Pyx_XDECREF</span>(__pyx_t_4); __pyx_t_4 = 0;\n",
       "      <span class='refnanny'>__Pyx_GOTREF</span>(__pyx_t_2);\n",
       "      <span class='pyx_macro_api'>__Pyx_DECREF</span>(__pyx_t_7); __pyx_t_7 = 0;\n",
       "    } else\n",
       "    #endif\n",
       "    #if CYTHON_FAST_PYCCALL\n",
       "    if (<span class='pyx_c_api'>__Pyx_PyFastCFunction_Check</span>(__pyx_t_5)) {\n",
       "      PyObject *__pyx_temp[2] = {__pyx_t_4, __pyx_t_7};\n",
       "      __pyx_t_2 = <span class='pyx_c_api'>__Pyx_PyCFunction_FastCall</span>(__pyx_t_5, __pyx_temp+1-1, 1+1);<span class='error_goto'> if (unlikely(!__pyx_t_2)) __PYX_ERR(0, 11, __pyx_L1_error)</span>\n",
       "      <span class='pyx_macro_api'>__Pyx_XDECREF</span>(__pyx_t_4); __pyx_t_4 = 0;\n",
       "      <span class='refnanny'>__Pyx_GOTREF</span>(__pyx_t_2);\n",
       "      <span class='pyx_macro_api'>__Pyx_DECREF</span>(__pyx_t_7); __pyx_t_7 = 0;\n",
       "    } else\n",
       "    #endif\n",
       "    {\n",
       "      __pyx_t_1 = <span class='py_c_api'>PyTuple_New</span>(1+1);<span class='error_goto'> if (unlikely(!__pyx_t_1)) __PYX_ERR(0, 11, __pyx_L1_error)</span>\n",
       "      <span class='refnanny'>__Pyx_GOTREF</span>(__pyx_t_1);\n",
       "      <span class='refnanny'>__Pyx_GIVEREF</span>(__pyx_t_4); <span class='py_macro_api'>PyTuple_SET_ITEM</span>(__pyx_t_1, 0, __pyx_t_4); __pyx_t_4 = NULL;\n",
       "      <span class='refnanny'>__Pyx_GIVEREF</span>(__pyx_t_7);\n",
       "      <span class='py_macro_api'>PyTuple_SET_ITEM</span>(__pyx_t_1, 0+1, __pyx_t_7);\n",
       "      __pyx_t_7 = 0;\n",
       "      __pyx_t_2 = <span class='pyx_c_api'>__Pyx_PyObject_Call</span>(__pyx_t_5, __pyx_t_1, NULL);<span class='error_goto'> if (unlikely(!__pyx_t_2)) __PYX_ERR(0, 11, __pyx_L1_error)</span>\n",
       "      <span class='refnanny'>__Pyx_GOTREF</span>(__pyx_t_2);\n",
       "      <span class='pyx_macro_api'>__Pyx_DECREF</span>(__pyx_t_1); __pyx_t_1 = 0;\n",
       "    }\n",
       "  }\n",
       "  <span class='pyx_macro_api'>__Pyx_DECREF</span>(__pyx_t_5); __pyx_t_5 = 0;\n",
       "  __pyx_t_8 = <span class='pyx_c_api'>__Pyx_PyObject_to_MemoryviewSlice_dsds_double</span>(__pyx_t_2);\n",
       "  if (unlikely(!__pyx_t_8.memview)) <span class='error_goto'>__PYX_ERR(0, 11, __pyx_L1_error)</span>\n",
       "  <span class='pyx_macro_api'>__Pyx_DECREF</span>(__pyx_t_2); __pyx_t_2 = 0;\n",
       "  __PYX_XDEC_MEMVIEW(&amp;__pyx_v_46_cython_magic_4fc12254f700455e2addb6dd526615d2_C, 1);\n",
       "  __pyx_v_46_cython_magic_4fc12254f700455e2addb6dd526615d2_C = __pyx_t_8;\n",
       "  __pyx_t_8.memview = NULL;\n",
       "  __pyx_t_8.data = NULL;\n",
       "</pre><pre class=\"cython line score-0\">&#xA0;<span class=\"\">12</span>: </pre>\n",
       "<pre class=\"cython line score-24\" onclick='toggleDiv(this)'>+<span class=\"\">13</span>: <span class=\"n\">start</span> <span class=\"o\">=</span> <span class=\"n\">timer</span><span class=\"p\">()</span></pre>\n",
       "<pre class='cython code score-24 '>  __pyx_t_5 = <span class='pyx_c_api'>__Pyx_GetModuleGlobalName</span>(__pyx_n_s_timer);<span class='error_goto'> if (unlikely(!__pyx_t_5)) __PYX_ERR(0, 13, __pyx_L1_error)</span>\n",
       "  <span class='refnanny'>__Pyx_GOTREF</span>(__pyx_t_5);\n",
       "  __pyx_t_1 = NULL;\n",
       "  if (CYTHON_UNPACK_METHODS &amp;&amp; unlikely(<span class='py_c_api'>PyMethod_Check</span>(__pyx_t_5))) {\n",
       "    __pyx_t_1 = <span class='py_macro_api'>PyMethod_GET_SELF</span>(__pyx_t_5);\n",
       "    if (likely(__pyx_t_1)) {\n",
       "      PyObject* function = <span class='py_macro_api'>PyMethod_GET_FUNCTION</span>(__pyx_t_5);\n",
       "      <span class='pyx_macro_api'>__Pyx_INCREF</span>(__pyx_t_1);\n",
       "      <span class='pyx_macro_api'>__Pyx_INCREF</span>(function);\n",
       "      <span class='pyx_macro_api'>__Pyx_DECREF_SET</span>(__pyx_t_5, function);\n",
       "    }\n",
       "  }\n",
       "  if (__pyx_t_1) {\n",
       "    __pyx_t_2 = <span class='pyx_c_api'>__Pyx_PyObject_CallOneArg</span>(__pyx_t_5, __pyx_t_1);<span class='error_goto'> if (unlikely(!__pyx_t_2)) __PYX_ERR(0, 13, __pyx_L1_error)</span>\n",
       "    <span class='pyx_macro_api'>__Pyx_DECREF</span>(__pyx_t_1); __pyx_t_1 = 0;\n",
       "  } else {\n",
       "    __pyx_t_2 = <span class='pyx_c_api'>__Pyx_PyObject_CallNoArg</span>(__pyx_t_5);<span class='error_goto'> if (unlikely(!__pyx_t_2)) __PYX_ERR(0, 13, __pyx_L1_error)</span>\n",
       "  }\n",
       "  <span class='refnanny'>__Pyx_GOTREF</span>(__pyx_t_2);\n",
       "  <span class='pyx_macro_api'>__Pyx_DECREF</span>(__pyx_t_5); __pyx_t_5 = 0;\n",
       "  if (<span class='py_c_api'>PyDict_SetItem</span>(__pyx_d, __pyx_n_s_start, __pyx_t_2) &lt; 0) <span class='error_goto'>__PYX_ERR(0, 13, __pyx_L1_error)</span>\n",
       "  <span class='pyx_macro_api'>__Pyx_DECREF</span>(__pyx_t_2); __pyx_t_2 = 0;\n",
       "</pre><pre class=\"cython line score-0\" onclick='toggleDiv(this)'>+<span class=\"\">14</span>: <span class=\"k\">for</span> <span class=\"n\">i</span> <span class=\"ow\">in</span> <span class=\"nb\">range</span><span class=\"p\">(</span><span class=\"n\">N</span><span class=\"p\">):</span></pre>\n",
       "<pre class='cython code score-0 '>  __pyx_t_6 = __pyx_v_46_cython_magic_4fc12254f700455e2addb6dd526615d2_N;\n",
       "  for (__pyx_t_9 = 0; __pyx_t_9 &lt; __pyx_t_6; __pyx_t_9+=1) {\n",
       "    __pyx_v_46_cython_magic_4fc12254f700455e2addb6dd526615d2_i = __pyx_t_9;\n",
       "</pre><pre class=\"cython line score-0\" onclick='toggleDiv(this)'>+<span class=\"\">15</span>:     <span class=\"k\">for</span> <span class=\"n\">j</span> <span class=\"ow\">in</span> <span class=\"nb\">range</span><span class=\"p\">(</span><span class=\"n\">N</span><span class=\"p\">):</span></pre>\n",
       "<pre class='cython code score-0 '>    __pyx_t_10 = __pyx_v_46_cython_magic_4fc12254f700455e2addb6dd526615d2_N;\n",
       "    for (__pyx_t_11 = 0; __pyx_t_11 &lt; __pyx_t_10; __pyx_t_11+=1) {\n",
       "      __pyx_v_46_cython_magic_4fc12254f700455e2addb6dd526615d2_j = __pyx_t_11;\n",
       "</pre><pre class=\"cython line score-0\" onclick='toggleDiv(this)'>+<span class=\"\">16</span>:         <span class=\"k\">for</span> <span class=\"n\">k</span> <span class=\"ow\">in</span> <span class=\"nb\">range</span><span class=\"p\">(</span><span class=\"n\">N</span><span class=\"p\">):</span></pre>\n",
       "<pre class='cython code score-0 '>      __pyx_t_12 = __pyx_v_46_cython_magic_4fc12254f700455e2addb6dd526615d2_N;\n",
       "      for (__pyx_t_13 = 0; __pyx_t_13 &lt; __pyx_t_12; __pyx_t_13+=1) {\n",
       "        __pyx_v_46_cython_magic_4fc12254f700455e2addb6dd526615d2_k = __pyx_t_13;\n",
       "</pre><pre class=\"cython line score-27\" onclick='toggleDiv(this)'>+<span class=\"\">17</span>:             <span class=\"n\">C</span><span class=\"p\">[</span><span class=\"n\">i</span><span class=\"p\">][</span><span class=\"n\">j</span><span class=\"p\">]</span> <span class=\"o\">+=</span> <span class=\"n\">A</span><span class=\"p\">[</span><span class=\"n\">i</span><span class=\"p\">][</span><span class=\"n\">k</span><span class=\"p\">]</span> <span class=\"o\">*</span> <span class=\"n\">B</span><span class=\"p\">[</span><span class=\"n\">k</span><span class=\"p\">][</span><span class=\"n\">j</span><span class=\"p\">]</span></pre>\n",
       "<pre class='cython code score-27 '>        if (unlikely(!__pyx_v_46_cython_magic_4fc12254f700455e2addb6dd526615d2_A.memview)) { <span class='pyx_c_api'>__Pyx_RaiseUnboundLocalError</span>(\"A\"); <span class='error_goto'>__PYX_ERR(0, 17, __pyx_L1_error)</span> }\n",
       "        __pyx_t_14.data = __pyx_v_46_cython_magic_4fc12254f700455e2addb6dd526615d2_A.data;\n",
       "        __pyx_t_14.memview = __pyx_v_46_cython_magic_4fc12254f700455e2addb6dd526615d2_A.memview;\n",
       "        __PYX_INC_MEMVIEW(&amp;__pyx_t_14, 0);\n",
       "        {\n",
       "    Py_ssize_t __pyx_tmp_idx = __pyx_v_46_cython_magic_4fc12254f700455e2addb6dd526615d2_i;\n",
       "    Py_ssize_t __pyx_tmp_shape = __pyx_v_46_cython_magic_4fc12254f700455e2addb6dd526615d2_A.shape[0];\n",
       "    Py_ssize_t __pyx_tmp_stride = __pyx_v_46_cython_magic_4fc12254f700455e2addb6dd526615d2_A.strides[0];\n",
       "    if (1 &amp;&amp; (__pyx_tmp_idx &lt; 0))\n",
       "        __pyx_tmp_idx += __pyx_tmp_shape;\n",
       "    if (1 &amp;&amp; (__pyx_tmp_idx &lt; 0 || __pyx_tmp_idx &gt;= __pyx_tmp_shape)) {\n",
       "        <span class='py_c_api'>PyErr_SetString</span>(PyExc_IndexError, \"Index out of bounds (axis 0)\");\n",
       "        <span class='error_goto'>__PYX_ERR(0, 17, __pyx_L1_error)</span>\n",
       "    }\n",
       "        __pyx_t_14.data += __pyx_tmp_idx * __pyx_tmp_stride;\n",
       "}\n",
       "\n",
       "__pyx_t_14.shape[0] = __pyx_v_46_cython_magic_4fc12254f700455e2addb6dd526615d2_A.shape[1];\n",
       "__pyx_t_14.strides[0] = __pyx_v_46_cython_magic_4fc12254f700455e2addb6dd526615d2_A.strides[1];\n",
       "    __pyx_t_14.suboffsets[0] = -1;\n",
       "\n",
       "__pyx_t_15 = __pyx_v_46_cython_magic_4fc12254f700455e2addb6dd526615d2_k;\n",
       "        __pyx_t_16 = -1;\n",
       "        if (__pyx_t_15 &lt; 0) {\n",
       "          __pyx_t_15 += __pyx_t_14.shape[0];\n",
       "          if (unlikely(__pyx_t_15 &lt; 0)) __pyx_t_16 = 0;\n",
       "        } else if (unlikely(__pyx_t_15 &gt;= __pyx_t_14.shape[0])) __pyx_t_16 = 0;\n",
       "        if (unlikely(__pyx_t_16 != -1)) {\n",
       "          <span class='pyx_c_api'>__Pyx_RaiseBufferIndexError</span>(__pyx_t_16);\n",
       "          <span class='error_goto'>__PYX_ERR(0, 17, __pyx_L1_error)</span>\n",
       "        }\n",
       "        if (unlikely(!__pyx_v_46_cython_magic_4fc12254f700455e2addb6dd526615d2_B.memview)) { <span class='pyx_c_api'>__Pyx_RaiseUnboundLocalError</span>(\"B\"); <span class='error_goto'>__PYX_ERR(0, 17, __pyx_L1_error)</span> }\n",
       "        __pyx_t_17.data = __pyx_v_46_cython_magic_4fc12254f700455e2addb6dd526615d2_B.data;\n",
       "        __pyx_t_17.memview = __pyx_v_46_cython_magic_4fc12254f700455e2addb6dd526615d2_B.memview;\n",
       "        __PYX_INC_MEMVIEW(&amp;__pyx_t_17, 0);\n",
       "        {\n",
       "    Py_ssize_t __pyx_tmp_idx = __pyx_v_46_cython_magic_4fc12254f700455e2addb6dd526615d2_k;\n",
       "    Py_ssize_t __pyx_tmp_shape = __pyx_v_46_cython_magic_4fc12254f700455e2addb6dd526615d2_B.shape[0];\n",
       "    Py_ssize_t __pyx_tmp_stride = __pyx_v_46_cython_magic_4fc12254f700455e2addb6dd526615d2_B.strides[0];\n",
       "    if (1 &amp;&amp; (__pyx_tmp_idx &lt; 0))\n",
       "        __pyx_tmp_idx += __pyx_tmp_shape;\n",
       "    if (1 &amp;&amp; (__pyx_tmp_idx &lt; 0 || __pyx_tmp_idx &gt;= __pyx_tmp_shape)) {\n",
       "        <span class='py_c_api'>PyErr_SetString</span>(PyExc_IndexError, \"Index out of bounds (axis 0)\");\n",
       "        <span class='error_goto'>__PYX_ERR(0, 17, __pyx_L1_error)</span>\n",
       "    }\n",
       "        __pyx_t_17.data += __pyx_tmp_idx * __pyx_tmp_stride;\n",
       "}\n",
       "\n",
       "__pyx_t_17.shape[0] = __pyx_v_46_cython_magic_4fc12254f700455e2addb6dd526615d2_B.shape[1];\n",
       "__pyx_t_17.strides[0] = __pyx_v_46_cython_magic_4fc12254f700455e2addb6dd526615d2_B.strides[1];\n",
       "    __pyx_t_17.suboffsets[0] = -1;\n",
       "\n",
       "__pyx_t_18 = __pyx_v_46_cython_magic_4fc12254f700455e2addb6dd526615d2_j;\n",
       "        __pyx_t_16 = -1;\n",
       "        if (__pyx_t_18 &lt; 0) {\n",
       "          __pyx_t_18 += __pyx_t_17.shape[0];\n",
       "          if (unlikely(__pyx_t_18 &lt; 0)) __pyx_t_16 = 0;\n",
       "        } else if (unlikely(__pyx_t_18 &gt;= __pyx_t_17.shape[0])) __pyx_t_16 = 0;\n",
       "        if (unlikely(__pyx_t_16 != -1)) {\n",
       "          <span class='pyx_c_api'>__Pyx_RaiseBufferIndexError</span>(__pyx_t_16);\n",
       "          <span class='error_goto'>__PYX_ERR(0, 17, __pyx_L1_error)</span>\n",
       "        }\n",
       "        if (unlikely(!__pyx_v_46_cython_magic_4fc12254f700455e2addb6dd526615d2_C.memview)) { <span class='pyx_c_api'>__Pyx_RaiseUnboundLocalError</span>(\"C\"); <span class='error_goto'>__PYX_ERR(0, 17, __pyx_L1_error)</span> }\n",
       "        __pyx_t_19.data = __pyx_v_46_cython_magic_4fc12254f700455e2addb6dd526615d2_C.data;\n",
       "        __pyx_t_19.memview = __pyx_v_46_cython_magic_4fc12254f700455e2addb6dd526615d2_C.memview;\n",
       "        __PYX_INC_MEMVIEW(&amp;__pyx_t_19, 0);\n",
       "        {\n",
       "    Py_ssize_t __pyx_tmp_idx = __pyx_v_46_cython_magic_4fc12254f700455e2addb6dd526615d2_i;\n",
       "    Py_ssize_t __pyx_tmp_shape = __pyx_v_46_cython_magic_4fc12254f700455e2addb6dd526615d2_C.shape[0];\n",
       "    Py_ssize_t __pyx_tmp_stride = __pyx_v_46_cython_magic_4fc12254f700455e2addb6dd526615d2_C.strides[0];\n",
       "    if (1 &amp;&amp; (__pyx_tmp_idx &lt; 0))\n",
       "        __pyx_tmp_idx += __pyx_tmp_shape;\n",
       "    if (1 &amp;&amp; (__pyx_tmp_idx &lt; 0 || __pyx_tmp_idx &gt;= __pyx_tmp_shape)) {\n",
       "        <span class='py_c_api'>PyErr_SetString</span>(PyExc_IndexError, \"Index out of bounds (axis 0)\");\n",
       "        <span class='error_goto'>__PYX_ERR(0, 17, __pyx_L1_error)</span>\n",
       "    }\n",
       "        __pyx_t_19.data += __pyx_tmp_idx * __pyx_tmp_stride;\n",
       "}\n",
       "\n",
       "__pyx_t_19.shape[0] = __pyx_v_46_cython_magic_4fc12254f700455e2addb6dd526615d2_C.shape[1];\n",
       "__pyx_t_19.strides[0] = __pyx_v_46_cython_magic_4fc12254f700455e2addb6dd526615d2_C.strides[1];\n",
       "    __pyx_t_19.suboffsets[0] = -1;\n",
       "\n",
       "__pyx_t_20 = __pyx_v_46_cython_magic_4fc12254f700455e2addb6dd526615d2_j;\n",
       "        __pyx_t_16 = -1;\n",
       "        if (__pyx_t_20 &lt; 0) {\n",
       "          __pyx_t_20 += __pyx_t_19.shape[0];\n",
       "          if (unlikely(__pyx_t_20 &lt; 0)) __pyx_t_16 = 0;\n",
       "        } else if (unlikely(__pyx_t_20 &gt;= __pyx_t_19.shape[0])) __pyx_t_16 = 0;\n",
       "        if (unlikely(__pyx_t_16 != -1)) {\n",
       "          <span class='pyx_c_api'>__Pyx_RaiseBufferIndexError</span>(__pyx_t_16);\n",
       "          <span class='error_goto'>__PYX_ERR(0, 17, __pyx_L1_error)</span>\n",
       "        }\n",
       "        *((double *) ( /* dim=0 */ (__pyx_t_19.data + __pyx_t_20 * __pyx_t_19.strides[0]) )) += ((*((double *) ( /* dim=0 */ (__pyx_t_14.data + __pyx_t_15 * __pyx_t_14.strides[0]) ))) * (*((double *) ( /* dim=0 */ (__pyx_t_17.data + __pyx_t_18 * __pyx_t_17.strides[0]) ))));\n",
       "        __PYX_XDEC_MEMVIEW(&amp;__pyx_t_19, 1);\n",
       "        __pyx_t_19.memview = NULL;\n",
       "        __pyx_t_19.data = NULL;\n",
       "        __PYX_XDEC_MEMVIEW(&amp;__pyx_t_14, 1);\n",
       "        __pyx_t_14.memview = NULL;\n",
       "        __pyx_t_14.data = NULL;\n",
       "        __PYX_XDEC_MEMVIEW(&amp;__pyx_t_17, 1);\n",
       "        __pyx_t_17.memview = NULL;\n",
       "        __pyx_t_17.data = NULL;\n",
       "      }\n",
       "    }\n",
       "  }\n",
       "</pre><pre class=\"cython line score-0\">&#xA0;<span class=\"\">18</span>: </pre>\n",
       "<pre class=\"cython line score-24\" onclick='toggleDiv(this)'>+<span class=\"\">19</span>: <span class=\"n\">end</span> <span class=\"o\">=</span> <span class=\"n\">timer</span><span class=\"p\">()</span></pre>\n",
       "<pre class='cython code score-24 '>  __pyx_t_5 = <span class='pyx_c_api'>__Pyx_GetModuleGlobalName</span>(__pyx_n_s_timer);<span class='error_goto'> if (unlikely(!__pyx_t_5)) __PYX_ERR(0, 19, __pyx_L1_error)</span>\n",
       "  <span class='refnanny'>__Pyx_GOTREF</span>(__pyx_t_5);\n",
       "  __pyx_t_1 = NULL;\n",
       "  if (CYTHON_UNPACK_METHODS &amp;&amp; unlikely(<span class='py_c_api'>PyMethod_Check</span>(__pyx_t_5))) {\n",
       "    __pyx_t_1 = <span class='py_macro_api'>PyMethod_GET_SELF</span>(__pyx_t_5);\n",
       "    if (likely(__pyx_t_1)) {\n",
       "      PyObject* function = <span class='py_macro_api'>PyMethod_GET_FUNCTION</span>(__pyx_t_5);\n",
       "      <span class='pyx_macro_api'>__Pyx_INCREF</span>(__pyx_t_1);\n",
       "      <span class='pyx_macro_api'>__Pyx_INCREF</span>(function);\n",
       "      <span class='pyx_macro_api'>__Pyx_DECREF_SET</span>(__pyx_t_5, function);\n",
       "    }\n",
       "  }\n",
       "  if (__pyx_t_1) {\n",
       "    __pyx_t_2 = <span class='pyx_c_api'>__Pyx_PyObject_CallOneArg</span>(__pyx_t_5, __pyx_t_1);<span class='error_goto'> if (unlikely(!__pyx_t_2)) __PYX_ERR(0, 19, __pyx_L1_error)</span>\n",
       "    <span class='pyx_macro_api'>__Pyx_DECREF</span>(__pyx_t_1); __pyx_t_1 = 0;\n",
       "  } else {\n",
       "    __pyx_t_2 = <span class='pyx_c_api'>__Pyx_PyObject_CallNoArg</span>(__pyx_t_5);<span class='error_goto'> if (unlikely(!__pyx_t_2)) __PYX_ERR(0, 19, __pyx_L1_error)</span>\n",
       "  }\n",
       "  <span class='refnanny'>__Pyx_GOTREF</span>(__pyx_t_2);\n",
       "  <span class='pyx_macro_api'>__Pyx_DECREF</span>(__pyx_t_5); __pyx_t_5 = 0;\n",
       "  if (<span class='py_c_api'>PyDict_SetItem</span>(__pyx_d, __pyx_n_s_end, __pyx_t_2) &lt; 0) <span class='error_goto'>__PYX_ERR(0, 19, __pyx_L1_error)</span>\n",
       "  <span class='pyx_macro_api'>__Pyx_DECREF</span>(__pyx_t_2); __pyx_t_2 = 0;\n",
       "</pre></div></body></html>"
      ],
      "text/plain": [
       "<IPython.core.display.HTML object>"
      ]
     },
     "execution_count": 26,
     "metadata": {},
     "output_type": "execute_result"
    }
   ],
   "source": [
    "%%cython --annotate\n",
    "\n",
    "import numpy as np\n",
    "from timeit import default_timer as timer\n",
    "\n",
    "cdef int N = 300\n",
    "cdef int i,j,k\n",
    "cdef double [:,:] A,B,C\n",
    "\n",
    "A = np.random.rand(N,N)\n",
    "B = np.random.rand(N,N)\n",
    "C = np.zeros((N,N))\n",
    "    \n",
    "start = timer()\n",
    "for i in range(N):\n",
    "    for j in range(N):\n",
    "        for k in range(N):\n",
    "            C[i][j] += A[i][k] * B[k][j]\n",
    "            \n",
    "end = timer()"
   ]
  },
  {
   "cell_type": "markdown",
   "id": "2dbeca92",
   "metadata": {
    "slideshow": {
     "slide_type": "slide"
    }
   },
   "source": [
    "### Pozorovaný výkon"
   ]
  },
  {
   "cell_type": "code",
   "execution_count": 27,
   "id": "da74565f",
   "metadata": {
    "slideshow": {
     "slide_type": "-"
    }
   },
   "outputs": [
    {
     "name": "stdout",
     "output_type": "stream",
     "text": [
      "0.8322038068436086 0.06488795119168196\n"
     ]
    }
   ],
   "source": [
    "ops = 2 * N**3\n",
    "print(end-start, ops / (end-start) / 1e9)"
   ]
  },
  {
   "cell_type": "markdown",
   "id": "320738e1",
   "metadata": {},
   "source": [
    "- řádový posun proti interpretovanému kódu\n",
    "- srovnatelná naivní implementace v C 10-50x rychlejší"
   ]
  }
 ],
 "metadata": {
  "celltoolbar": "Slideshow",
  "kernelspec": {
   "display_name": "Python 3",
   "language": "python",
   "name": "python3"
  },
  "language_info": {
   "codemirror_mode": {
    "name": "ipython",
    "version": 3
   },
   "file_extension": ".py",
   "mimetype": "text/x-python",
   "name": "python",
   "nbconvert_exporter": "python",
   "pygments_lexer": "ipython3",
   "version": "3.6.9"
  },
  "rise": {
   "autolaunch": true,
   "controls": false,
   "enable_chalkboard": true,
   "slideNumber": "c/t",
   "theme": "ljocha"
  }
 },
 "nbformat": 4,
 "nbformat_minor": 5
}
